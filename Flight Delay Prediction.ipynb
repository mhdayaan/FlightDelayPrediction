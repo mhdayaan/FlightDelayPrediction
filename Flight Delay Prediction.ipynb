{
 "cells": [
  {
   "cell_type": "markdown",
   "metadata": {},
   "source": [
    "# FLIGHT DELAYS PREDICTION"
   ]
  },
  {
   "cell_type": "markdown",
   "metadata": {},
   "source": [
    "## Contents\n",
    "* [Problem Statement](#Problem-Statement)\n",
    "* [Objectives](#Objectives)\n",
    "* [Data Acquisition and Exploration](#Data-Acquisition-and-Exploration)\n",
    "* [Data Preprocessing](#Data-Preprocessing) \n",
    "* [Exploratory Data Analysis](#Exploratory-Data-Analysis)\n",
    "* [Classification Modelling](#Classification-Modelling)"
   ]
  },
  {
   "cell_type": "markdown",
   "metadata": {},
   "source": [
    "### Problem Statement\n",
    "Flight delays have become a source of concern for airlines around the world, due to the financial losses incurred by both the aviation industry and passengers. Between 2012 and 2018, approximately 19% of major airline flights in the United States were delayed, affecting the travel of many passengers. These delays frequently lead to difficulties and dissatisfaction for passengers. The main goal is to develop an accurate technique for predicting flight delays that can predict with precision the potential and duration of delays for particular aircraft. \n",
    "\n",
    "Definition of <b>delayed flight</b>:\n",
    "\n",
    "- Flight that arrives late at its destination\n",
    "- If the flight has any delays from its departure, but still arrives to its destination on time, it will not be considered a delayed flight\n",
    "- Flight that arrive on time is denoted as 0\n",
    "- Flight that delayed is denoted as 1"
   ]
  },
  {
   "cell_type": "markdown",
   "metadata": {},
   "source": [
    "### Objectives\n",
    "- To identify attributes that affect flight delay\n",
    "- To develop machine learning models that classify flights outcome (delayed or not delayed) with selected attributes \n",
    "- To evaluate performance of different machine learning models\n"
   ]
  },
  {
   "cell_type": "markdown",
   "metadata": {},
   "source": [
    "### Data Acquisition and Exploration"
   ]
  },
  {
   "cell_type": "code",
   "execution_count": 1,
   "metadata": {},
   "outputs": [],
   "source": [
    "# Import Required Libraries\n",
    "%matplotlib inline\n",
    "import datetime, warnings, scipy\n",
    "warnings.filterwarnings(\"ignore\")\n",
    "import numpy as np\n",
    "import pandas as pd\n",
    "pd.set_option('display.max_columns', None)\n",
    "import matplotlib.pyplot as plt\n",
    "import seaborn as sns\n",
    "plt.style.use('seaborn-whitegrid')"
   ]
  },
  {
   "cell_type": "markdown",
   "metadata": {},
   "source": [
    "#### Import data"
   ]
  },
  {
   "cell_type": "code",
   "execution_count": 2,
   "metadata": {},
   "outputs": [
    {
     "data": {
      "text/html": [
       "<div>\n",
       "<style scoped>\n",
       "    .dataframe tbody tr th:only-of-type {\n",
       "        vertical-align: middle;\n",
       "    }\n",
       "\n",
       "    .dataframe tbody tr th {\n",
       "        vertical-align: top;\n",
       "    }\n",
       "\n",
       "    .dataframe thead th {\n",
       "        text-align: right;\n",
       "    }\n",
       "</style>\n",
       "<table border=\"1\" class=\"dataframe\">\n",
       "  <thead>\n",
       "    <tr style=\"text-align: right;\">\n",
       "      <th></th>\n",
       "      <th>FL_DATE</th>\n",
       "      <th>OP_CARRIER</th>\n",
       "      <th>OP_CARRIER_FL_NUM</th>\n",
       "      <th>ORIGIN</th>\n",
       "      <th>DEST</th>\n",
       "      <th>CRS_DEP_TIME</th>\n",
       "      <th>DEP_TIME</th>\n",
       "      <th>DEP_DELAY</th>\n",
       "      <th>TAXI_OUT</th>\n",
       "      <th>WHEELS_OFF</th>\n",
       "      <th>WHEELS_ON</th>\n",
       "      <th>TAXI_IN</th>\n",
       "      <th>CRS_ARR_TIME</th>\n",
       "      <th>ARR_TIME</th>\n",
       "      <th>ARR_DELAY</th>\n",
       "      <th>CANCELLED</th>\n",
       "      <th>CANCELLATION_CODE</th>\n",
       "      <th>DIVERTED</th>\n",
       "      <th>CRS_ELAPSED_TIME</th>\n",
       "      <th>ACTUAL_ELAPSED_TIME</th>\n",
       "      <th>AIR_TIME</th>\n",
       "      <th>DISTANCE</th>\n",
       "      <th>CARRIER_DELAY</th>\n",
       "      <th>WEATHER_DELAY</th>\n",
       "      <th>NAS_DELAY</th>\n",
       "      <th>SECURITY_DELAY</th>\n",
       "      <th>LATE_AIRCRAFT_DELAY</th>\n",
       "      <th>Unnamed: 27</th>\n",
       "    </tr>\n",
       "  </thead>\n",
       "  <tbody>\n",
       "    <tr>\n",
       "      <th>0</th>\n",
       "      <td>2018-01-01</td>\n",
       "      <td>UA</td>\n",
       "      <td>2429</td>\n",
       "      <td>EWR</td>\n",
       "      <td>DEN</td>\n",
       "      <td>1517</td>\n",
       "      <td>1512.0</td>\n",
       "      <td>-5.0</td>\n",
       "      <td>15.0</td>\n",
       "      <td>1527.0</td>\n",
       "      <td>1712.0</td>\n",
       "      <td>10.0</td>\n",
       "      <td>1745</td>\n",
       "      <td>1722.0</td>\n",
       "      <td>-23.0</td>\n",
       "      <td>0.0</td>\n",
       "      <td>NaN</td>\n",
       "      <td>0.0</td>\n",
       "      <td>268.0</td>\n",
       "      <td>250.0</td>\n",
       "      <td>225.0</td>\n",
       "      <td>1605.0</td>\n",
       "      <td>NaN</td>\n",
       "      <td>NaN</td>\n",
       "      <td>NaN</td>\n",
       "      <td>NaN</td>\n",
       "      <td>NaN</td>\n",
       "      <td>NaN</td>\n",
       "    </tr>\n",
       "    <tr>\n",
       "      <th>1</th>\n",
       "      <td>2018-01-01</td>\n",
       "      <td>UA</td>\n",
       "      <td>2427</td>\n",
       "      <td>LAS</td>\n",
       "      <td>SFO</td>\n",
       "      <td>1115</td>\n",
       "      <td>1107.0</td>\n",
       "      <td>-8.0</td>\n",
       "      <td>11.0</td>\n",
       "      <td>1118.0</td>\n",
       "      <td>1223.0</td>\n",
       "      <td>7.0</td>\n",
       "      <td>1254</td>\n",
       "      <td>1230.0</td>\n",
       "      <td>-24.0</td>\n",
       "      <td>0.0</td>\n",
       "      <td>NaN</td>\n",
       "      <td>0.0</td>\n",
       "      <td>99.0</td>\n",
       "      <td>83.0</td>\n",
       "      <td>65.0</td>\n",
       "      <td>414.0</td>\n",
       "      <td>NaN</td>\n",
       "      <td>NaN</td>\n",
       "      <td>NaN</td>\n",
       "      <td>NaN</td>\n",
       "      <td>NaN</td>\n",
       "      <td>NaN</td>\n",
       "    </tr>\n",
       "    <tr>\n",
       "      <th>7213444</th>\n",
       "      <td>2018-12-31</td>\n",
       "      <td>AA</td>\n",
       "      <td>1818</td>\n",
       "      <td>CLT</td>\n",
       "      <td>RDU</td>\n",
       "      <td>1300</td>\n",
       "      <td>1323.0</td>\n",
       "      <td>23.0</td>\n",
       "      <td>11.0</td>\n",
       "      <td>1334.0</td>\n",
       "      <td>1400.0</td>\n",
       "      <td>4.0</td>\n",
       "      <td>1350</td>\n",
       "      <td>1404.0</td>\n",
       "      <td>14.0</td>\n",
       "      <td>0.0</td>\n",
       "      <td>NaN</td>\n",
       "      <td>0.0</td>\n",
       "      <td>50.0</td>\n",
       "      <td>41.0</td>\n",
       "      <td>26.0</td>\n",
       "      <td>130.0</td>\n",
       "      <td>NaN</td>\n",
       "      <td>NaN</td>\n",
       "      <td>NaN</td>\n",
       "      <td>NaN</td>\n",
       "      <td>NaN</td>\n",
       "      <td>NaN</td>\n",
       "    </tr>\n",
       "    <tr>\n",
       "      <th>7213445</th>\n",
       "      <td>2018-12-31</td>\n",
       "      <td>AA</td>\n",
       "      <td>1818</td>\n",
       "      <td>RDU</td>\n",
       "      <td>CLT</td>\n",
       "      <td>1435</td>\n",
       "      <td>1443.0</td>\n",
       "      <td>8.0</td>\n",
       "      <td>8.0</td>\n",
       "      <td>1451.0</td>\n",
       "      <td>1535.0</td>\n",
       "      <td>7.0</td>\n",
       "      <td>1546</td>\n",
       "      <td>1542.0</td>\n",
       "      <td>-4.0</td>\n",
       "      <td>0.0</td>\n",
       "      <td>NaN</td>\n",
       "      <td>0.0</td>\n",
       "      <td>71.0</td>\n",
       "      <td>59.0</td>\n",
       "      <td>44.0</td>\n",
       "      <td>130.0</td>\n",
       "      <td>NaN</td>\n",
       "      <td>NaN</td>\n",
       "      <td>NaN</td>\n",
       "      <td>NaN</td>\n",
       "      <td>NaN</td>\n",
       "      <td>NaN</td>\n",
       "    </tr>\n",
       "  </tbody>\n",
       "</table>\n",
       "</div>"
      ],
      "text/plain": [
       "            FL_DATE OP_CARRIER  OP_CARRIER_FL_NUM ORIGIN DEST  CRS_DEP_TIME  \\\n",
       "0        2018-01-01         UA               2429    EWR  DEN          1517   \n",
       "1        2018-01-01         UA               2427    LAS  SFO          1115   \n",
       "7213444  2018-12-31         AA               1818    CLT  RDU          1300   \n",
       "7213445  2018-12-31         AA               1818    RDU  CLT          1435   \n",
       "\n",
       "         DEP_TIME  DEP_DELAY  TAXI_OUT  WHEELS_OFF  WHEELS_ON  TAXI_IN  \\\n",
       "0          1512.0       -5.0      15.0      1527.0     1712.0     10.0   \n",
       "1          1107.0       -8.0      11.0      1118.0     1223.0      7.0   \n",
       "7213444    1323.0       23.0      11.0      1334.0     1400.0      4.0   \n",
       "7213445    1443.0        8.0       8.0      1451.0     1535.0      7.0   \n",
       "\n",
       "         CRS_ARR_TIME  ARR_TIME  ARR_DELAY  CANCELLED CANCELLATION_CODE  \\\n",
       "0                1745    1722.0      -23.0        0.0               NaN   \n",
       "1                1254    1230.0      -24.0        0.0               NaN   \n",
       "7213444          1350    1404.0       14.0        0.0               NaN   \n",
       "7213445          1546    1542.0       -4.0        0.0               NaN   \n",
       "\n",
       "         DIVERTED  CRS_ELAPSED_TIME  ACTUAL_ELAPSED_TIME  AIR_TIME  DISTANCE  \\\n",
       "0             0.0             268.0                250.0     225.0    1605.0   \n",
       "1             0.0              99.0                 83.0      65.0     414.0   \n",
       "7213444       0.0              50.0                 41.0      26.0     130.0   \n",
       "7213445       0.0              71.0                 59.0      44.0     130.0   \n",
       "\n",
       "         CARRIER_DELAY  WEATHER_DELAY  NAS_DELAY  SECURITY_DELAY  \\\n",
       "0                  NaN            NaN        NaN             NaN   \n",
       "1                  NaN            NaN        NaN             NaN   \n",
       "7213444            NaN            NaN        NaN             NaN   \n",
       "7213445            NaN            NaN        NaN             NaN   \n",
       "\n",
       "         LATE_AIRCRAFT_DELAY  Unnamed: 27  \n",
       "0                        NaN          NaN  \n",
       "1                        NaN          NaN  \n",
       "7213444                  NaN          NaN  \n",
       "7213445                  NaN          NaN  "
      ]
     },
     "execution_count": 2,
     "metadata": {},
     "output_type": "execute_result"
    }
   ],
   "source": [
    "# 2018 airport data \n",
    "flight_data = pd.read_csv('2018.csv')\n",
    "flight_data.head(2).append(flight_data.tail(2))"
   ]
  },
  {
   "cell_type": "markdown",
   "metadata": {},
   "source": [
    "#### Dataset exploration"
   ]
  },
  {
   "cell_type": "code",
   "execution_count": 3,
   "metadata": {},
   "outputs": [
    {
     "name": "stdout",
     "output_type": "stream",
     "text": [
      "There are 7213446 rows and 28 columns from the flight dataset.\n"
     ]
    }
   ],
   "source": [
    "# Check dimension of dataset\n",
    "flight_data.shape\n",
    "print(\"There are \"+ str(flight_data.shape[0]) +\" rows and \"+ str(flight_data.shape[1]) +\" columns from the flight dataset.\")"
   ]
  },
  {
   "cell_type": "code",
   "execution_count": 4,
   "metadata": {},
   "outputs": [],
   "source": [
    "# Convert flight_data column to datetime format\n",
    "flight_data['FL_DATE'] =  pd.to_datetime(flight_data['FL_DATE'], format='%Y-%m-%d')"
   ]
  },
  {
   "cell_type": "code",
   "execution_count": 5,
   "metadata": {},
   "outputs": [
    {
     "name": "stdout",
     "output_type": "stream",
     "text": [
      "<class 'pandas.core.frame.DataFrame'>\n",
      "RangeIndex: 7213446 entries, 0 to 7213445\n",
      "Data columns (total 28 columns):\n",
      " #   Column               Dtype         \n",
      "---  ------               -----         \n",
      " 0   FL_DATE              datetime64[ns]\n",
      " 1   OP_CARRIER           object        \n",
      " 2   OP_CARRIER_FL_NUM    int64         \n",
      " 3   ORIGIN               object        \n",
      " 4   DEST                 object        \n",
      " 5   CRS_DEP_TIME         int64         \n",
      " 6   DEP_TIME             float64       \n",
      " 7   DEP_DELAY            float64       \n",
      " 8   TAXI_OUT             float64       \n",
      " 9   WHEELS_OFF           float64       \n",
      " 10  WHEELS_ON            float64       \n",
      " 11  TAXI_IN              float64       \n",
      " 12  CRS_ARR_TIME         int64         \n",
      " 13  ARR_TIME             float64       \n",
      " 14  ARR_DELAY            float64       \n",
      " 15  CANCELLED            float64       \n",
      " 16  CANCELLATION_CODE    object        \n",
      " 17  DIVERTED             float64       \n",
      " 18  CRS_ELAPSED_TIME     float64       \n",
      " 19  ACTUAL_ELAPSED_TIME  float64       \n",
      " 20  AIR_TIME             float64       \n",
      " 21  DISTANCE             float64       \n",
      " 22  CARRIER_DELAY        float64       \n",
      " 23  WEATHER_DELAY        float64       \n",
      " 24  NAS_DELAY            float64       \n",
      " 25  SECURITY_DELAY       float64       \n",
      " 26  LATE_AIRCRAFT_DELAY  float64       \n",
      " 27  Unnamed: 27          float64       \n",
      "dtypes: datetime64[ns](1), float64(20), int64(3), object(4)\n",
      "memory usage: 1.5+ GB\n"
     ]
    }
   ],
   "source": [
    "# Check column type\n",
    "flight_data.info()"
   ]
  },
  {
   "cell_type": "markdown",
   "metadata": {},
   "source": [
    "#### Metadata\n",
    "\n",
    "<b>FL_DATE</b> = Date of the Flight<br>\n",
    "<b>OP_CARRIER</b> = Airline Identifier<br>\n",
    "<b>OP_CARRIER_FL_NUM</b> = Flight Number<br>\n",
    "<b>ORIGIN</b> = Starting Airport Code<br>\n",
    "<b>DEST</b> = Destination Airport Code<br>\n",
    "<b>CRS_DEP_TIME</b> = Planned Departure Time<br>\n",
    "<b>DEP_TIME</b> = Actual Departure Time<br>\n",
    "<b>DEP_DELAY</b> = Total Delay on Departure in minutes<br>\n",
    "<b>TAXI_OUT</b> = The time duration elapsed between departure from the origin airport gate and wheels off<br>\n",
    "<b>WHEELS_OFF</b> = The time point that the aircraft's wheels leave the ground<br>\n",
    "<b>WHEELS_ON</b> = The time point that the aircraft'ss wheels touch on the ground<br>\n",
    "<b>TAXI_IN</b> = The time duration elapsed between wheels-on and gate arrival at the destination airport<br>\n",
    "<b>CRS_ARR_TIME</b> = Planned arrival time<br>\n",
    "<b>ARR_TIME</b> = Actual Arrival Time = ARRIVAL_TIME - SCHEDULED_ARRIVAL<br>\n",
    "<b>ARR_DELAY</b> = Total Delay on Arrival in minutes<br>\n",
    "<b>CANCELLED</b> = Flight Cancelled (1 = cancelled)<br>\n",
    "<b>CANCELLATION_CODE</b> = Reason for Cancellation of flight: A - Airline/Carrier; B - Weather; C - National Air System; D - Security<br>\n",
    "<b>DIVERTED</b> = Aircraft landed on different airport that the one scheduled<br>\n",
    "<b>CRS_ELAPSED_TIME</b> = Planned time amount needed for the flight trip<br>\n",
    "<b>ACTUAL_ELAPSED_TIME</b> = AIR_TIME+TAXI_IN+TAXI_OUT<br>\n",
    "<b>AIR_TIME</b> = The time duration between wheels_off and wheels_on time<br>\n",
    "<b>DISTANCE</b> = Distance between two airports<br>\n",
    "<b>CARRIER_DELAY</b> = Delay caused by the airline in minutes<br>\n",
    "<b>WEATHER_DELAY</b> = Delay caused by weather<br>\n",
    "<b>NAS_DELAY</b> = Delay caused by air system<br>\n",
    "<b>SECURITY_DELAY</b> = caused by security reasons<br>\n",
    "<b>LATE_AIRCRAFT_DELAY</b> = Delay caused by security<br>"
   ]
  },
  {
   "cell_type": "markdown",
   "metadata": {},
   "source": [
    "### Data Preprocessing"
   ]
  },
  {
   "cell_type": "markdown",
   "metadata": {},
   "source": [
    "#### Handle of missing data"
   ]
  },
  {
   "cell_type": "code",
   "execution_count": 6,
   "metadata": {},
   "outputs": [
    {
     "name": "stdout",
     "output_type": "stream",
     "text": [
      "Proportion of missing data in columns\n",
      "            column_name  percentage\n",
      "0           Unnamed: 27  100.000000\n",
      "1     CANCELLATION_CODE   98.383796\n",
      "2   LATE_AIRCRAFT_DELAY   81.247382\n",
      "3         CARRIER_DELAY   81.247382\n",
      "4         WEATHER_DELAY   81.247382\n",
      "5             NAS_DELAY   81.247382\n",
      "6        SECURITY_DELAY   81.247382\n",
      "7             ARR_DELAY    1.899785\n",
      "8   ACTUAL_ELAPSED_TIME    1.863769\n",
      "9              AIR_TIME    1.863769\n",
      "10            WHEELS_ON    1.653107\n",
      "11              TAXI_IN    1.653107\n",
      "12             ARR_TIME    1.653093\n",
      "13            DEP_DELAY    1.625215\n",
      "14             TAXI_OUT    1.605751\n",
      "15           WHEELS_OFF    1.605737\n",
      "16             DEP_TIME    1.557051\n",
      "17     CRS_ELAPSED_TIME    0.000139\n"
     ]
    }
   ],
   "source": [
    "# Calculate the proportion of missing data\n",
    "\n",
    "def checkMissing(data,perc=0):\n",
    "    \"\"\" \n",
    "    Takes in a dataframe and returns\n",
    "    the percentage of missing value.\n",
    "    \"\"\"\n",
    "    missing = [(i, data[i].isna().mean()*100) for i in data]\n",
    "    missing = pd.DataFrame(missing, columns=[\"column_name\", \"percentage\"])\n",
    "    missing = missing[missing.percentage > perc]\n",
    "    print(missing.sort_values(\"percentage\", ascending=False).reset_index(drop=True))\n",
    "\n",
    "print(\"Proportion of missing data in columns\")\n",
    "checkMissing(flight_data)"
   ]
  },
  {
   "cell_type": "markdown",
   "metadata": {},
   "source": [
    "The following columns have been excluded from the dataframe due to containing more than 50% missing values: `Unnamed: 27`, `CANCELLATION_CODE`, `LATE_AIRCRAFT_DELAY`, `CARRIER_DELAY`, `WEATHER_DELAY`, `NAS_DELAY`, and `SECURITY_DELAY`. These columns do not contribute meaningful information to our analysis. Additionally, the `CANCELLED` column, indicating whether a flight was canceled, is deemed irrelevant for our objective of predicting flight delays, as a canceled flight never departs or arrives at its destination.\n",
    "\n",
    "Further examination of the dataset revealed that `LATE_AIRCRAFT_DELAY`, `CARRIER_DELAY`, `WEATHER_DELAY`, `NAS_DELAY`, and `SECURITY_DELAY` represent the breakdown of delayed minutes for a flight. Consequently, missing values in these columns suggest that there was no delay for the corresponding instances. To address this, the missing data in these attributes has been imputed with zero."
   ]
  },
  {
   "cell_type": "code",
   "execution_count": 7,
   "metadata": {},
   "outputs": [],
   "source": [
    "#Fill the missing value 0\n",
    "flight_data['LATE_AIRCRAFT_DELAY']=flight_data['LATE_AIRCRAFT_DELAY'].fillna(0)\n",
    "flight_data['CARRIER_DELAY']=flight_data['CARRIER_DELAY'].fillna(0)\n",
    "flight_data['WEATHER_DELAY']=flight_data['WEATHER_DELAY'].fillna(0)\n",
    "flight_data['NAS_DELAY']=flight_data['NAS_DELAY'].fillna(0)\n",
    "flight_data['SECURITY_DELAY']=flight_data['SECURITY_DELAY'].fillna(0)"
   ]
  },
  {
   "cell_type": "markdown",
   "metadata": {},
   "source": [
    "#### Transformation of Duration time taken\n",
    "Checking on the calculation for Departure Delay and Arrival Delay in minutes"
   ]
  },
  {
   "cell_type": "code",
   "execution_count": 8,
   "metadata": {},
   "outputs": [],
   "source": [
    "# Function that convert the 'HHMM' string to datetime.time\n",
    "def format_heure(chaine):\n",
    "    if pd.isnull(chaine):\n",
    "        return np.nan\n",
    "    else:\n",
    "        if chaine == 2400: chaine = 0\n",
    "        chaine = \"{0:04d}\".format(int(chaine))\n",
    "        heure = datetime.time(int(chaine[0:2]), int(chaine[2:4]))\n",
    "        return heure"
   ]
  },
  {
   "cell_type": "code",
   "execution_count": 9,
   "metadata": {},
   "outputs": [],
   "source": [
    "flight_data['DEP_TIME'] = flight_data['DEP_TIME'].apply(format_heure)\n",
    "flight_data['CRS_DEP_TIME'] = flight_data['CRS_DEP_TIME'].apply(format_heure)\n",
    "\n",
    "flight_data['ARR_TIME'] = flight_data['ARR_TIME'].apply(format_heure) \n",
    "flight_data['CRS_ARR_TIME'] = flight_data['CRS_ARR_TIME'].apply(format_heure)\n",
    "\n",
    "flight_data['WHEELS_OFF'] = flight_data['WHEELS_OFF'].apply(format_heure)\n",
    "flight_data['WHEELS_ON'] = flight_data['WHEELS_ON'].apply(format_heure)"
   ]
  },
  {
   "cell_type": "markdown",
   "metadata": {},
   "source": [
    "Obtain duration of time taken for:\n",
    "- Flight take off and wheels off\n",
    "- Flight on land and wheels on"
   ]
  },
  {
   "cell_type": "code",
   "execution_count": 10,
   "metadata": {},
   "outputs": [],
   "source": [
    "# Convert flight_data column to datetime format\n",
    "\n",
    "def time_difference(actual,plan):\n",
    "    actual_time = pd.to_timedelta(actual.astype(str)) \n",
    "    plan_time = pd.to_timedelta(plan.astype(str))\n",
    "    return actual_time.sub(plan_time).dt.total_seconds().div(60)\n",
    "\n",
    "flight_data['WHEELS_OFF_elapse'] =  time_difference(flight_data['WHEELS_OFF'],flight_data['DEP_TIME'])\n",
    "flight_data['WHEELS_ON_elapse'] =  time_difference(flight_data['ARR_TIME'] ,flight_data['WHEELS_ON'])\n",
    "\n",
    "# Remove incorrect record\n",
    "flight_data=flight_data[flight_data['WHEELS_OFF_elapse']>0]\n",
    "flight_data=flight_data[flight_data['WHEELS_ON_elapse']>0]"
   ]
  },
  {
   "cell_type": "code",
   "execution_count": 11,
   "metadata": {},
   "outputs": [
    {
     "data": {
      "text/html": [
       "<div>\n",
       "<style scoped>\n",
       "    .dataframe tbody tr th:only-of-type {\n",
       "        vertical-align: middle;\n",
       "    }\n",
       "\n",
       "    .dataframe tbody tr th {\n",
       "        vertical-align: top;\n",
       "    }\n",
       "\n",
       "    .dataframe thead th {\n",
       "        text-align: right;\n",
       "    }\n",
       "</style>\n",
       "<table border=\"1\" class=\"dataframe\">\n",
       "  <thead>\n",
       "    <tr style=\"text-align: right;\">\n",
       "      <th></th>\n",
       "      <th>FL_DATE</th>\n",
       "      <th>OP_CARRIER</th>\n",
       "      <th>OP_CARRIER_FL_NUM</th>\n",
       "      <th>ORIGIN</th>\n",
       "      <th>DEST</th>\n",
       "      <th>CRS_DEP_TIME</th>\n",
       "      <th>DEP_TIME</th>\n",
       "      <th>DEP_DELAY</th>\n",
       "      <th>TAXI_OUT</th>\n",
       "      <th>WHEELS_OFF</th>\n",
       "      <th>WHEELS_ON</th>\n",
       "      <th>TAXI_IN</th>\n",
       "      <th>CRS_ARR_TIME</th>\n",
       "      <th>ARR_TIME</th>\n",
       "      <th>ARR_DELAY</th>\n",
       "      <th>CANCELLED</th>\n",
       "      <th>CANCELLATION_CODE</th>\n",
       "      <th>DIVERTED</th>\n",
       "      <th>CRS_ELAPSED_TIME</th>\n",
       "      <th>ACTUAL_ELAPSED_TIME</th>\n",
       "      <th>AIR_TIME</th>\n",
       "      <th>DISTANCE</th>\n",
       "      <th>CARRIER_DELAY</th>\n",
       "      <th>WEATHER_DELAY</th>\n",
       "      <th>NAS_DELAY</th>\n",
       "      <th>SECURITY_DELAY</th>\n",
       "      <th>LATE_AIRCRAFT_DELAY</th>\n",
       "      <th>Unnamed: 27</th>\n",
       "      <th>WHEELS_OFF_elapse</th>\n",
       "      <th>WHEELS_ON_elapse</th>\n",
       "    </tr>\n",
       "  </thead>\n",
       "  <tbody>\n",
       "    <tr>\n",
       "      <th>0</th>\n",
       "      <td>2018-01-01</td>\n",
       "      <td>UA</td>\n",
       "      <td>2429</td>\n",
       "      <td>EWR</td>\n",
       "      <td>DEN</td>\n",
       "      <td>15:17:00</td>\n",
       "      <td>15:12:00</td>\n",
       "      <td>-5.0</td>\n",
       "      <td>15.0</td>\n",
       "      <td>15:27:00</td>\n",
       "      <td>17:12:00</td>\n",
       "      <td>10.0</td>\n",
       "      <td>17:45:00</td>\n",
       "      <td>17:22:00</td>\n",
       "      <td>-23.0</td>\n",
       "      <td>0.0</td>\n",
       "      <td>NaN</td>\n",
       "      <td>0.0</td>\n",
       "      <td>268.0</td>\n",
       "      <td>250.0</td>\n",
       "      <td>225.0</td>\n",
       "      <td>1605.0</td>\n",
       "      <td>0.0</td>\n",
       "      <td>0.0</td>\n",
       "      <td>0.0</td>\n",
       "      <td>0.0</td>\n",
       "      <td>0.0</td>\n",
       "      <td>NaN</td>\n",
       "      <td>15.0</td>\n",
       "      <td>10.0</td>\n",
       "    </tr>\n",
       "    <tr>\n",
       "      <th>1</th>\n",
       "      <td>2018-01-01</td>\n",
       "      <td>UA</td>\n",
       "      <td>2427</td>\n",
       "      <td>LAS</td>\n",
       "      <td>SFO</td>\n",
       "      <td>11:15:00</td>\n",
       "      <td>11:07:00</td>\n",
       "      <td>-8.0</td>\n",
       "      <td>11.0</td>\n",
       "      <td>11:18:00</td>\n",
       "      <td>12:23:00</td>\n",
       "      <td>7.0</td>\n",
       "      <td>12:54:00</td>\n",
       "      <td>12:30:00</td>\n",
       "      <td>-24.0</td>\n",
       "      <td>0.0</td>\n",
       "      <td>NaN</td>\n",
       "      <td>0.0</td>\n",
       "      <td>99.0</td>\n",
       "      <td>83.0</td>\n",
       "      <td>65.0</td>\n",
       "      <td>414.0</td>\n",
       "      <td>0.0</td>\n",
       "      <td>0.0</td>\n",
       "      <td>0.0</td>\n",
       "      <td>0.0</td>\n",
       "      <td>0.0</td>\n",
       "      <td>NaN</td>\n",
       "      <td>11.0</td>\n",
       "      <td>7.0</td>\n",
       "    </tr>\n",
       "    <tr>\n",
       "      <th>7213444</th>\n",
       "      <td>2018-12-31</td>\n",
       "      <td>AA</td>\n",
       "      <td>1818</td>\n",
       "      <td>CLT</td>\n",
       "      <td>RDU</td>\n",
       "      <td>13:00:00</td>\n",
       "      <td>13:23:00</td>\n",
       "      <td>23.0</td>\n",
       "      <td>11.0</td>\n",
       "      <td>13:34:00</td>\n",
       "      <td>14:00:00</td>\n",
       "      <td>4.0</td>\n",
       "      <td>13:50:00</td>\n",
       "      <td>14:04:00</td>\n",
       "      <td>14.0</td>\n",
       "      <td>0.0</td>\n",
       "      <td>NaN</td>\n",
       "      <td>0.0</td>\n",
       "      <td>50.0</td>\n",
       "      <td>41.0</td>\n",
       "      <td>26.0</td>\n",
       "      <td>130.0</td>\n",
       "      <td>0.0</td>\n",
       "      <td>0.0</td>\n",
       "      <td>0.0</td>\n",
       "      <td>0.0</td>\n",
       "      <td>0.0</td>\n",
       "      <td>NaN</td>\n",
       "      <td>11.0</td>\n",
       "      <td>4.0</td>\n",
       "    </tr>\n",
       "    <tr>\n",
       "      <th>7213445</th>\n",
       "      <td>2018-12-31</td>\n",
       "      <td>AA</td>\n",
       "      <td>1818</td>\n",
       "      <td>RDU</td>\n",
       "      <td>CLT</td>\n",
       "      <td>14:35:00</td>\n",
       "      <td>14:43:00</td>\n",
       "      <td>8.0</td>\n",
       "      <td>8.0</td>\n",
       "      <td>14:51:00</td>\n",
       "      <td>15:35:00</td>\n",
       "      <td>7.0</td>\n",
       "      <td>15:46:00</td>\n",
       "      <td>15:42:00</td>\n",
       "      <td>-4.0</td>\n",
       "      <td>0.0</td>\n",
       "      <td>NaN</td>\n",
       "      <td>0.0</td>\n",
       "      <td>71.0</td>\n",
       "      <td>59.0</td>\n",
       "      <td>44.0</td>\n",
       "      <td>130.0</td>\n",
       "      <td>0.0</td>\n",
       "      <td>0.0</td>\n",
       "      <td>0.0</td>\n",
       "      <td>0.0</td>\n",
       "      <td>0.0</td>\n",
       "      <td>NaN</td>\n",
       "      <td>8.0</td>\n",
       "      <td>7.0</td>\n",
       "    </tr>\n",
       "  </tbody>\n",
       "</table>\n",
       "</div>"
      ],
      "text/plain": [
       "           FL_DATE OP_CARRIER  OP_CARRIER_FL_NUM ORIGIN DEST CRS_DEP_TIME  \\\n",
       "0       2018-01-01         UA               2429    EWR  DEN     15:17:00   \n",
       "1       2018-01-01         UA               2427    LAS  SFO     11:15:00   \n",
       "7213444 2018-12-31         AA               1818    CLT  RDU     13:00:00   \n",
       "7213445 2018-12-31         AA               1818    RDU  CLT     14:35:00   \n",
       "\n",
       "         DEP_TIME  DEP_DELAY  TAXI_OUT WHEELS_OFF WHEELS_ON  TAXI_IN  \\\n",
       "0        15:12:00       -5.0      15.0   15:27:00  17:12:00     10.0   \n",
       "1        11:07:00       -8.0      11.0   11:18:00  12:23:00      7.0   \n",
       "7213444  13:23:00       23.0      11.0   13:34:00  14:00:00      4.0   \n",
       "7213445  14:43:00        8.0       8.0   14:51:00  15:35:00      7.0   \n",
       "\n",
       "        CRS_ARR_TIME  ARR_TIME  ARR_DELAY  CANCELLED CANCELLATION_CODE  \\\n",
       "0           17:45:00  17:22:00      -23.0        0.0               NaN   \n",
       "1           12:54:00  12:30:00      -24.0        0.0               NaN   \n",
       "7213444     13:50:00  14:04:00       14.0        0.0               NaN   \n",
       "7213445     15:46:00  15:42:00       -4.0        0.0               NaN   \n",
       "\n",
       "         DIVERTED  CRS_ELAPSED_TIME  ACTUAL_ELAPSED_TIME  AIR_TIME  DISTANCE  \\\n",
       "0             0.0             268.0                250.0     225.0    1605.0   \n",
       "1             0.0              99.0                 83.0      65.0     414.0   \n",
       "7213444       0.0              50.0                 41.0      26.0     130.0   \n",
       "7213445       0.0              71.0                 59.0      44.0     130.0   \n",
       "\n",
       "         CARRIER_DELAY  WEATHER_DELAY  NAS_DELAY  SECURITY_DELAY  \\\n",
       "0                  0.0            0.0        0.0             0.0   \n",
       "1                  0.0            0.0        0.0             0.0   \n",
       "7213444            0.0            0.0        0.0             0.0   \n",
       "7213445            0.0            0.0        0.0             0.0   \n",
       "\n",
       "         LATE_AIRCRAFT_DELAY  Unnamed: 27  WHEELS_OFF_elapse  WHEELS_ON_elapse  \n",
       "0                        0.0          NaN               15.0              10.0  \n",
       "1                        0.0          NaN               11.0               7.0  \n",
       "7213444                  0.0          NaN               11.0               4.0  \n",
       "7213445                  0.0          NaN                8.0               7.0  "
      ]
     },
     "execution_count": 11,
     "metadata": {},
     "output_type": "execute_result"
    }
   ],
   "source": [
    "# Check first 2 instances and last 2 instances\n",
    "flight_data.head(2).append(flight_data.tail(2))"
   ]
  },
  {
   "cell_type": "code",
   "execution_count": 16,
   "metadata": {},
   "outputs": [],
   "source": [
    "# Drop the unused columns \n",
    "flight_data.drop(['Unnamed: 27', \n",
    "                  'CANCELLATION_CODE',\n",
    "                  'CANCELLED',\n",
    "                  'OP_CARRIER_FL_NUM',\n",
    "                  'CRS_DEP_TIME',\n",
    "                  'DEP_TIME',\n",
    "                  'CRS_ARR_TIME',\n",
    "                  'ARR_TIME',\n",
    "                  'WHEELS_ON',\n",
    "                  'WHEELS_OFF'\n",
    "                 ],\n",
    "                 axis = 1, inplace = True)"
   ]
  },
  {
   "cell_type": "code",
   "execution_count": 17,
   "metadata": {},
   "outputs": [
    {
     "data": {
      "text/plain": [
       "FL_DATE                    0\n",
       "OP_CARRIER                 0\n",
       "ORIGIN                     0\n",
       "DEST                       0\n",
       "DEP_DELAY               4735\n",
       "TAXI_OUT                   0\n",
       "TAXI_IN                    0\n",
       "ARR_DELAY              17560\n",
       "DIVERTED                   0\n",
       "CRS_ELAPSED_TIME           7\n",
       "ACTUAL_ELAPSED_TIME    14962\n",
       "AIR_TIME               14962\n",
       "DISTANCE                   0\n",
       "CARRIER_DELAY              0\n",
       "WEATHER_DELAY              0\n",
       "NAS_DELAY                  0\n",
       "SECURITY_DELAY             0\n",
       "LATE_AIRCRAFT_DELAY        0\n",
       "WHEELS_OFF_elapse          0\n",
       "WHEELS_ON_elapse           0\n",
       "dtype: int64"
      ]
     },
     "execution_count": 17,
     "metadata": {},
     "output_type": "execute_result"
    }
   ],
   "source": [
    "#Check number of missing values\n",
    "flight_data.isna().sum()"
   ]
  },
  {
   "cell_type": "code",
   "execution_count": 18,
   "metadata": {},
   "outputs": [],
   "source": [
    "flight_data = flight_data.dropna()"
   ]
  },
  {
   "cell_type": "code",
   "execution_count": 19,
   "metadata": {},
   "outputs": [
    {
     "data": {
      "text/plain": [
       "FL_DATE                0\n",
       "OP_CARRIER             0\n",
       "ORIGIN                 0\n",
       "DEST                   0\n",
       "DEP_DELAY              0\n",
       "TAXI_OUT               0\n",
       "TAXI_IN                0\n",
       "ARR_DELAY              0\n",
       "DIVERTED               0\n",
       "CRS_ELAPSED_TIME       0\n",
       "ACTUAL_ELAPSED_TIME    0\n",
       "AIR_TIME               0\n",
       "DISTANCE               0\n",
       "CARRIER_DELAY          0\n",
       "WEATHER_DELAY          0\n",
       "NAS_DELAY              0\n",
       "SECURITY_DELAY         0\n",
       "LATE_AIRCRAFT_DELAY    0\n",
       "WHEELS_OFF_elapse      0\n",
       "WHEELS_ON_elapse       0\n",
       "dtype: int64"
      ]
     },
     "execution_count": 19,
     "metadata": {},
     "output_type": "execute_result"
    }
   ],
   "source": [
    "#Check number of missing values\n",
    "flight_data.isna().sum()"
   ]
  },
  {
   "cell_type": "markdown",
   "metadata": {},
   "source": [
    "#### Rename of OP_CARRIER\n",
    "The column labeled `OP_CARRIER`, which originally contains airline identifiers in their abbreviated form, has undergone a renaming process for improved clarity. The abbreviations have been replaced with the extended names of the respective airlines. The primary source for obtaining these extended names is the information available on [Wikipedia's list of airlines in the United States](https://en.wikipedia.org/wiki/List_of_airlines_of_the_United_States)."
   ]
  },
  {
   "cell_type": "code",
   "execution_count": 20,
   "metadata": {},
   "outputs": [
    {
     "data": {
      "text/plain": [
       "array(['UA', 'AS', '9E', 'B6', 'EV', 'F9', 'G4', 'HA', 'MQ', 'NK', 'OH',\n",
       "       'OO', 'VX', 'WN', 'YV', 'YX', 'AA', 'DL'], dtype=object)"
      ]
     },
     "execution_count": 20,
     "metadata": {},
     "output_type": "execute_result"
    }
   ],
   "source": [
    "# Check the instances for OP_CARRIER\n",
    "flight_data.OP_CARRIER.unique()"
   ]
  },
  {
   "cell_type": "code",
   "execution_count": 21,
   "metadata": {},
   "outputs": [],
   "source": [
    "flight_data['OP_CARRIER'].replace({\n",
    "    'UA':'United Airlines',\n",
    "    'AS':'Alaska Airlines',\n",
    "    '9E':'Endeavor Air',\n",
    "    'B6':'JetBlue Airways',\n",
    "    'EV':'ExpressJet',\n",
    "    'F9':'Frontier Airlines',\n",
    "    'G4':'Allegiant Air',\n",
    "    'HA':'Hawaiian Airlines',\n",
    "    'MQ':'Envoy Air',\n",
    "    'NK':'Spirit Airlines',\n",
    "    'OH':'PSA Airlines',\n",
    "    'OO':'SkyWest Airlines',\n",
    "    'VX':'Virgin America',\n",
    "    'WN':'Southwest Airlines',\n",
    "    'YV':'Mesa Airline',\n",
    "    'YX':'Republic Airways',\n",
    "    'AA':'American Airlines',\n",
    "    'DL':'Delta Airlines'\n",
    "}, inplace=True)"
   ]
  },
  {
   "cell_type": "code",
   "execution_count": 22,
   "metadata": {},
   "outputs": [
    {
     "data": {
      "text/plain": [
       "18"
      ]
     },
     "execution_count": 22,
     "metadata": {},
     "output_type": "execute_result"
    }
   ],
   "source": [
    "flight_data.OP_CARRIER.nunique()"
   ]
  },
  {
   "cell_type": "code",
   "execution_count": 23,
   "metadata": {},
   "outputs": [
    {
     "data": {
      "text/plain": [
       "Southwest Airlines    1326376\n",
       "Delta Airlines         938464\n",
       "American Airlines      892021\n",
       "SkyWest Airlines       758717\n",
       "United Airlines        609226\n",
       "Republic Airways       303927\n",
       "JetBlue Airways        293075\n",
       "Envoy Air              283788\n",
       "PSA Airlines           264929\n",
       "Alaska Airlines        240352\n",
       "Endeavor Air           231211\n",
       "Mesa Airline           208382\n",
       "ExpressJet             196072\n",
       "Spirit Airlines        171359\n",
       "Frontier Airlines      116058\n",
       "Allegiant Air           94982\n",
       "Hawaiian Airlines       83161\n",
       "Virgin America          17012\n",
       "Name: OP_CARRIER, dtype: int64"
      ]
     },
     "execution_count": 23,
     "metadata": {},
     "output_type": "execute_result"
    }
   ],
   "source": [
    "flight_data.OP_CARRIER.value_counts()"
   ]
  },
  {
   "cell_type": "markdown",
   "metadata": {},
   "source": [
    "#### Data reduction: Focus on Busy Airports\n",
    "While extensive pre-processing and cleaning were conducted in a separate notebook, the focus of this current task is to generate a final dataframe specifically tailored for modeling. The dataset will be narrowed down to include only the top 20 cities. This approach is chosen because the `DEST` feature, representing the destination, is a categorical column with 358 distinct values. To simplify the modeling process, hot encoding will be applied to these top 20 destinations instead of the entire set of 358."
   ]
  },
  {
   "cell_type": "code",
   "execution_count": 24,
   "metadata": {},
   "outputs": [
    {
     "data": {
      "text/plain": [
       "ATL    384813\n",
       "ORD    322119\n",
       "DFW    271096\n",
       "DEN    232583\n",
       "CLT    225450\n",
       "LAX    217452\n",
       "SFO    171824\n",
       "PHX    171433\n",
       "IAH    170255\n",
       "LGA    162095\n",
       "LAS    158721\n",
       "MSP    156532\n",
       "DTW    154229\n",
       "BOS    142239\n",
       "SEA    137829\n",
       "EWR    137238\n",
       "MCO    135272\n",
       "DCA    127517\n",
       "JFK    122315\n",
       "PHL    112410\n",
       "Name: DEST, dtype: int64"
      ]
     },
     "execution_count": 24,
     "metadata": {},
     "output_type": "execute_result"
    }
   ],
   "source": [
    "flight_data.DEST.value_counts().iloc[:20]"
   ]
  },
  {
   "cell_type": "code",
   "execution_count": 25,
   "metadata": {},
   "outputs": [
    {
     "data": {
      "text/html": [
       "<div>\n",
       "<style scoped>\n",
       "    .dataframe tbody tr th:only-of-type {\n",
       "        vertical-align: middle;\n",
       "    }\n",
       "\n",
       "    .dataframe tbody tr th {\n",
       "        vertical-align: top;\n",
       "    }\n",
       "\n",
       "    .dataframe thead th {\n",
       "        text-align: right;\n",
       "    }\n",
       "</style>\n",
       "<table border=\"1\" class=\"dataframe\">\n",
       "  <thead>\n",
       "    <tr style=\"text-align: right;\">\n",
       "      <th></th>\n",
       "      <th>DEST</th>\n",
       "      <th>TOTAL_FLIGHTS</th>\n",
       "    </tr>\n",
       "  </thead>\n",
       "  <tbody>\n",
       "    <tr>\n",
       "      <th>0</th>\n",
       "      <td>ATL</td>\n",
       "      <td>384813</td>\n",
       "    </tr>\n",
       "  </tbody>\n",
       "</table>\n",
       "</div>"
      ],
      "text/plain": [
       "  DEST  TOTAL_FLIGHTS\n",
       "0  ATL         384813"
      ]
     },
     "execution_count": 25,
     "metadata": {},
     "output_type": "execute_result"
    }
   ],
   "source": [
    "top_cities = flight_data.DEST.value_counts().iloc[0:1].rename_axis('DEST').reset_index(name='TOTAL_FLIGHTS')\n",
    "top_cities.head()"
   ]
  },
  {
   "cell_type": "code",
   "execution_count": 26,
   "metadata": {},
   "outputs": [],
   "source": [
    "# Checking the cities within the numpy array just to verify that it worked\n",
    "top_cities.DEST.unique()\n",
    "\n",
    "# Creating a list with top cities only:\n",
    "city_list = top_cities['DEST'].tolist()"
   ]
  },
  {
   "cell_type": "code",
   "execution_count": 27,
   "metadata": {},
   "outputs": [
    {
     "data": {
      "text/html": [
       "<div>\n",
       "<style scoped>\n",
       "    .dataframe tbody tr th:only-of-type {\n",
       "        vertical-align: middle;\n",
       "    }\n",
       "\n",
       "    .dataframe tbody tr th {\n",
       "        vertical-align: top;\n",
       "    }\n",
       "\n",
       "    .dataframe thead th {\n",
       "        text-align: right;\n",
       "    }\n",
       "</style>\n",
       "<table border=\"1\" class=\"dataframe\">\n",
       "  <thead>\n",
       "    <tr style=\"text-align: right;\">\n",
       "      <th></th>\n",
       "      <th>FL_DATE</th>\n",
       "      <th>OP_CARRIER</th>\n",
       "      <th>ORIGIN</th>\n",
       "      <th>DEST</th>\n",
       "      <th>DEP_DELAY</th>\n",
       "      <th>TAXI_OUT</th>\n",
       "      <th>TAXI_IN</th>\n",
       "      <th>ARR_DELAY</th>\n",
       "      <th>DIVERTED</th>\n",
       "      <th>CRS_ELAPSED_TIME</th>\n",
       "      <th>ACTUAL_ELAPSED_TIME</th>\n",
       "      <th>AIR_TIME</th>\n",
       "      <th>DISTANCE</th>\n",
       "      <th>CARRIER_DELAY</th>\n",
       "      <th>WEATHER_DELAY</th>\n",
       "      <th>NAS_DELAY</th>\n",
       "      <th>SECURITY_DELAY</th>\n",
       "      <th>LATE_AIRCRAFT_DELAY</th>\n",
       "      <th>WHEELS_OFF_elapse</th>\n",
       "      <th>WHEELS_ON_elapse</th>\n",
       "    </tr>\n",
       "  </thead>\n",
       "  <tbody>\n",
       "    <tr>\n",
       "      <th>13</th>\n",
       "      <td>2018-01-01</td>\n",
       "      <td>United Airlines</td>\n",
       "      <td>EWR</td>\n",
       "      <td>ATL</td>\n",
       "      <td>11.0</td>\n",
       "      <td>11.0</td>\n",
       "      <td>5.0</td>\n",
       "      <td>-3.0</td>\n",
       "      <td>0.0</td>\n",
       "      <td>154.0</td>\n",
       "      <td>140.0</td>\n",
       "      <td>124.0</td>\n",
       "      <td>746.0</td>\n",
       "      <td>0.0</td>\n",
       "      <td>0.0</td>\n",
       "      <td>0.0</td>\n",
       "      <td>0.0</td>\n",
       "      <td>0.0</td>\n",
       "      <td>11.0</td>\n",
       "      <td>5.0</td>\n",
       "    </tr>\n",
       "    <tr>\n",
       "      <th>241</th>\n",
       "      <td>2018-01-01</td>\n",
       "      <td>United Airlines</td>\n",
       "      <td>EWR</td>\n",
       "      <td>ATL</td>\n",
       "      <td>20.0</td>\n",
       "      <td>13.0</td>\n",
       "      <td>9.0</td>\n",
       "      <td>12.0</td>\n",
       "      <td>0.0</td>\n",
       "      <td>154.0</td>\n",
       "      <td>146.0</td>\n",
       "      <td>124.0</td>\n",
       "      <td>746.0</td>\n",
       "      <td>0.0</td>\n",
       "      <td>0.0</td>\n",
       "      <td>0.0</td>\n",
       "      <td>0.0</td>\n",
       "      <td>0.0</td>\n",
       "      <td>13.0</td>\n",
       "      <td>9.0</td>\n",
       "    </tr>\n",
       "    <tr>\n",
       "      <th>349</th>\n",
       "      <td>2018-01-01</td>\n",
       "      <td>United Airlines</td>\n",
       "      <td>EWR</td>\n",
       "      <td>ATL</td>\n",
       "      <td>0.0</td>\n",
       "      <td>14.0</td>\n",
       "      <td>5.0</td>\n",
       "      <td>-17.0</td>\n",
       "      <td>0.0</td>\n",
       "      <td>154.0</td>\n",
       "      <td>137.0</td>\n",
       "      <td>118.0</td>\n",
       "      <td>746.0</td>\n",
       "      <td>0.0</td>\n",
       "      <td>0.0</td>\n",
       "      <td>0.0</td>\n",
       "      <td>0.0</td>\n",
       "      <td>0.0</td>\n",
       "      <td>14.0</td>\n",
       "      <td>5.0</td>\n",
       "    </tr>\n",
       "    <tr>\n",
       "      <th>517</th>\n",
       "      <td>2018-01-01</td>\n",
       "      <td>United Airlines</td>\n",
       "      <td>IAH</td>\n",
       "      <td>ATL</td>\n",
       "      <td>201.0</td>\n",
       "      <td>12.0</td>\n",
       "      <td>7.0</td>\n",
       "      <td>184.0</td>\n",
       "      <td>0.0</td>\n",
       "      <td>121.0</td>\n",
       "      <td>104.0</td>\n",
       "      <td>85.0</td>\n",
       "      <td>689.0</td>\n",
       "      <td>0.0</td>\n",
       "      <td>0.0</td>\n",
       "      <td>132.0</td>\n",
       "      <td>0.0</td>\n",
       "      <td>52.0</td>\n",
       "      <td>12.0</td>\n",
       "      <td>7.0</td>\n",
       "    </tr>\n",
       "    <tr>\n",
       "      <th>686</th>\n",
       "      <td>2018-01-01</td>\n",
       "      <td>United Airlines</td>\n",
       "      <td>EWR</td>\n",
       "      <td>ATL</td>\n",
       "      <td>9.0</td>\n",
       "      <td>26.0</td>\n",
       "      <td>5.0</td>\n",
       "      <td>5.0</td>\n",
       "      <td>0.0</td>\n",
       "      <td>154.0</td>\n",
       "      <td>150.0</td>\n",
       "      <td>119.0</td>\n",
       "      <td>746.0</td>\n",
       "      <td>0.0</td>\n",
       "      <td>0.0</td>\n",
       "      <td>0.0</td>\n",
       "      <td>0.0</td>\n",
       "      <td>0.0</td>\n",
       "      <td>26.0</td>\n",
       "      <td>5.0</td>\n",
       "    </tr>\n",
       "  </tbody>\n",
       "</table>\n",
       "</div>"
      ],
      "text/plain": [
       "       FL_DATE       OP_CARRIER ORIGIN DEST  DEP_DELAY  TAXI_OUT  TAXI_IN  \\\n",
       "13  2018-01-01  United Airlines    EWR  ATL       11.0      11.0      5.0   \n",
       "241 2018-01-01  United Airlines    EWR  ATL       20.0      13.0      9.0   \n",
       "349 2018-01-01  United Airlines    EWR  ATL        0.0      14.0      5.0   \n",
       "517 2018-01-01  United Airlines    IAH  ATL      201.0      12.0      7.0   \n",
       "686 2018-01-01  United Airlines    EWR  ATL        9.0      26.0      5.0   \n",
       "\n",
       "     ARR_DELAY  DIVERTED  CRS_ELAPSED_TIME  ACTUAL_ELAPSED_TIME  AIR_TIME  \\\n",
       "13        -3.0       0.0             154.0                140.0     124.0   \n",
       "241       12.0       0.0             154.0                146.0     124.0   \n",
       "349      -17.0       0.0             154.0                137.0     118.0   \n",
       "517      184.0       0.0             121.0                104.0      85.0   \n",
       "686        5.0       0.0             154.0                150.0     119.0   \n",
       "\n",
       "     DISTANCE  CARRIER_DELAY  WEATHER_DELAY  NAS_DELAY  SECURITY_DELAY  \\\n",
       "13      746.0            0.0            0.0        0.0             0.0   \n",
       "241     746.0            0.0            0.0        0.0             0.0   \n",
       "349     746.0            0.0            0.0        0.0             0.0   \n",
       "517     689.0            0.0            0.0      132.0             0.0   \n",
       "686     746.0            0.0            0.0        0.0             0.0   \n",
       "\n",
       "     LATE_AIRCRAFT_DELAY  WHEELS_OFF_elapse  WHEELS_ON_elapse  \n",
       "13                   0.0               11.0               5.0  \n",
       "241                  0.0               13.0               9.0  \n",
       "349                  0.0               14.0               5.0  \n",
       "517                 52.0               12.0               7.0  \n",
       "686                  0.0               26.0               5.0  "
      ]
     },
     "execution_count": 27,
     "metadata": {},
     "output_type": "execute_result"
    }
   ],
   "source": [
    "boolean_series =  flight_data.DEST.isin(city_list)\n",
    "flight_data =  flight_data[boolean_series]\n",
    "flight_data.head()"
   ]
  },
  {
   "cell_type": "code",
   "execution_count": 28,
   "metadata": {},
   "outputs": [
    {
     "name": "stdout",
     "output_type": "stream",
     "text": [
      "<class 'pandas.core.frame.DataFrame'>\n",
      "Int64Index: 384813 entries, 13 to 7213438\n",
      "Data columns (total 20 columns):\n",
      " #   Column               Non-Null Count   Dtype         \n",
      "---  ------               --------------   -----         \n",
      " 0   FL_DATE              384813 non-null  datetime64[ns]\n",
      " 1   OP_CARRIER           384813 non-null  object        \n",
      " 2   ORIGIN               384813 non-null  object        \n",
      " 3   DEST                 384813 non-null  object        \n",
      " 4   DEP_DELAY            384813 non-null  float64       \n",
      " 5   TAXI_OUT             384813 non-null  float64       \n",
      " 6   TAXI_IN              384813 non-null  float64       \n",
      " 7   ARR_DELAY            384813 non-null  float64       \n",
      " 8   DIVERTED             384813 non-null  float64       \n",
      " 9   CRS_ELAPSED_TIME     384813 non-null  float64       \n",
      " 10  ACTUAL_ELAPSED_TIME  384813 non-null  float64       \n",
      " 11  AIR_TIME             384813 non-null  float64       \n",
      " 12  DISTANCE             384813 non-null  float64       \n",
      " 13  CARRIER_DELAY        384813 non-null  float64       \n",
      " 14  WEATHER_DELAY        384813 non-null  float64       \n",
      " 15  NAS_DELAY            384813 non-null  float64       \n",
      " 16  SECURITY_DELAY       384813 non-null  float64       \n",
      " 17  LATE_AIRCRAFT_DELAY  384813 non-null  float64       \n",
      " 18  WHEELS_OFF_elapse    384813 non-null  float64       \n",
      " 19  WHEELS_ON_elapse     384813 non-null  float64       \n",
      "dtypes: datetime64[ns](1), float64(16), object(3)\n",
      "memory usage: 61.7+ MB\n"
     ]
    }
   ],
   "source": [
    "flight_data.info()"
   ]
  },
  {
   "cell_type": "markdown",
   "metadata": {},
   "source": [
    "#### Transformation for Date"
   ]
  },
  {
   "cell_type": "code",
   "execution_count": 29,
   "metadata": {
    "scrolled": true
   },
   "outputs": [
    {
     "data": {
      "text/html": [
       "<div>\n",
       "<style scoped>\n",
       "    .dataframe tbody tr th:only-of-type {\n",
       "        vertical-align: middle;\n",
       "    }\n",
       "\n",
       "    .dataframe tbody tr th {\n",
       "        vertical-align: top;\n",
       "    }\n",
       "\n",
       "    .dataframe thead th {\n",
       "        text-align: right;\n",
       "    }\n",
       "</style>\n",
       "<table border=\"1\" class=\"dataframe\">\n",
       "  <thead>\n",
       "    <tr style=\"text-align: right;\">\n",
       "      <th></th>\n",
       "      <th>FL_DATE</th>\n",
       "      <th>OP_CARRIER</th>\n",
       "      <th>ORIGIN</th>\n",
       "      <th>DEST</th>\n",
       "      <th>DEP_DELAY</th>\n",
       "      <th>TAXI_OUT</th>\n",
       "      <th>TAXI_IN</th>\n",
       "      <th>ARR_DELAY</th>\n",
       "      <th>DIVERTED</th>\n",
       "      <th>CRS_ELAPSED_TIME</th>\n",
       "      <th>ACTUAL_ELAPSED_TIME</th>\n",
       "      <th>AIR_TIME</th>\n",
       "      <th>DISTANCE</th>\n",
       "      <th>CARRIER_DELAY</th>\n",
       "      <th>WEATHER_DELAY</th>\n",
       "      <th>NAS_DELAY</th>\n",
       "      <th>SECURITY_DELAY</th>\n",
       "      <th>LATE_AIRCRAFT_DELAY</th>\n",
       "      <th>WHEELS_OFF_elapse</th>\n",
       "      <th>WHEELS_ON_elapse</th>\n",
       "      <th>DAY</th>\n",
       "      <th>MONTH</th>\n",
       "      <th>MONTH_AB</th>\n",
       "      <th>DAYOFWEEK</th>\n",
       "      <th>DAYNAME</th>\n",
       "      <th>WEEKDAY</th>\n",
       "    </tr>\n",
       "  </thead>\n",
       "  <tbody>\n",
       "    <tr>\n",
       "      <th>13</th>\n",
       "      <td>2018-01-01</td>\n",
       "      <td>United Airlines</td>\n",
       "      <td>EWR</td>\n",
       "      <td>ATL</td>\n",
       "      <td>11.0</td>\n",
       "      <td>11.0</td>\n",
       "      <td>5.0</td>\n",
       "      <td>-3.0</td>\n",
       "      <td>0.0</td>\n",
       "      <td>154.0</td>\n",
       "      <td>140.0</td>\n",
       "      <td>124.0</td>\n",
       "      <td>746.0</td>\n",
       "      <td>0.0</td>\n",
       "      <td>0.0</td>\n",
       "      <td>0.0</td>\n",
       "      <td>0.0</td>\n",
       "      <td>0.0</td>\n",
       "      <td>11.0</td>\n",
       "      <td>5.0</td>\n",
       "      <td>1</td>\n",
       "      <td>1</td>\n",
       "      <td>Jan</td>\n",
       "      <td>0</td>\n",
       "      <td>Monday</td>\n",
       "      <td>1</td>\n",
       "    </tr>\n",
       "    <tr>\n",
       "      <th>241</th>\n",
       "      <td>2018-01-01</td>\n",
       "      <td>United Airlines</td>\n",
       "      <td>EWR</td>\n",
       "      <td>ATL</td>\n",
       "      <td>20.0</td>\n",
       "      <td>13.0</td>\n",
       "      <td>9.0</td>\n",
       "      <td>12.0</td>\n",
       "      <td>0.0</td>\n",
       "      <td>154.0</td>\n",
       "      <td>146.0</td>\n",
       "      <td>124.0</td>\n",
       "      <td>746.0</td>\n",
       "      <td>0.0</td>\n",
       "      <td>0.0</td>\n",
       "      <td>0.0</td>\n",
       "      <td>0.0</td>\n",
       "      <td>0.0</td>\n",
       "      <td>13.0</td>\n",
       "      <td>9.0</td>\n",
       "      <td>1</td>\n",
       "      <td>1</td>\n",
       "      <td>Jan</td>\n",
       "      <td>0</td>\n",
       "      <td>Monday</td>\n",
       "      <td>1</td>\n",
       "    </tr>\n",
       "  </tbody>\n",
       "</table>\n",
       "</div>"
      ],
      "text/plain": [
       "       FL_DATE       OP_CARRIER ORIGIN DEST  DEP_DELAY  TAXI_OUT  TAXI_IN  \\\n",
       "13  2018-01-01  United Airlines    EWR  ATL       11.0      11.0      5.0   \n",
       "241 2018-01-01  United Airlines    EWR  ATL       20.0      13.0      9.0   \n",
       "\n",
       "     ARR_DELAY  DIVERTED  CRS_ELAPSED_TIME  ACTUAL_ELAPSED_TIME  AIR_TIME  \\\n",
       "13        -3.0       0.0             154.0                140.0     124.0   \n",
       "241       12.0       0.0             154.0                146.0     124.0   \n",
       "\n",
       "     DISTANCE  CARRIER_DELAY  WEATHER_DELAY  NAS_DELAY  SECURITY_DELAY  \\\n",
       "13      746.0            0.0            0.0        0.0             0.0   \n",
       "241     746.0            0.0            0.0        0.0             0.0   \n",
       "\n",
       "     LATE_AIRCRAFT_DELAY  WHEELS_OFF_elapse  WHEELS_ON_elapse  DAY  MONTH  \\\n",
       "13                   0.0               11.0               5.0    1      1   \n",
       "241                  0.0               13.0               9.0    1      1   \n",
       "\n",
       "    MONTH_AB  DAYOFWEEK DAYNAME  WEEKDAY  \n",
       "13       Jan          0  Monday        1  \n",
       "241      Jan          0  Monday        1  "
      ]
     },
     "execution_count": 29,
     "metadata": {},
     "output_type": "execute_result"
    }
   ],
   "source": [
    "import calendar\n",
    "flight_date=pd.DatetimeIndex(flight_data['FL_DATE'])\n",
    "\n",
    "flight_data['DAY'] = flight_date.day\n",
    "flight_data['MONTH'] = flight_date.month\n",
    "flight_data['MONTH_AB'] = flight_data['MONTH'].apply(lambda x: calendar.month_abbr[x])\n",
    "flight_data['DAYOFWEEK'] = flight_date.dayofweek\n",
    "flight_data['DAYNAME'] = flight_data['DAYOFWEEK'].apply(lambda x: calendar.day_name[x])\n",
    "\n",
    "daytype = []\n",
    "for value in flight_data['DAYOFWEEK']:\n",
    "    if value in (0,1,2,3,4):\n",
    "        daytype.append(1) #weekday\n",
    "    else:\n",
    "        daytype.append(0) #weekend\n",
    "flight_data['WEEKDAY'] = daytype\n",
    "flight_data.head(2)"
   ]
  },
  {
   "cell_type": "code",
   "execution_count": 30,
   "metadata": {},
   "outputs": [
    {
     "name": "stdout",
     "output_type": "stream",
     "text": [
      "Maximum number of days in a month: 31\n",
      "Total number of months: 12\n",
      "Total number of days per week: 7\n",
      "\n",
      "Months present in dataframe: [ 1  2  3  4  5  6  7  8  9 10 11 12]\n",
      "Months present in dataframe: ['Jan' 'Feb' 'Mar' 'Apr' 'May' 'Jun' 'Jul' 'Aug' 'Sep' 'Oct' 'Nov' 'Dec']\n",
      "\n",
      "Days present in dataframe: [0 1 2 3 4 5 6]\n",
      "Days present in dataframe: ['Monday' 'Tuesday' 'Wednesday' 'Thursday' 'Friday' 'Saturday' 'Sunday']\n"
     ]
    }
   ],
   "source": [
    "# For checking\n",
    "print('Maximum number of days in a month:', flight_data.DAY.nunique())\n",
    "print('Total number of months:', flight_data.MONTH.nunique())\n",
    "print('Total number of days per week:', flight_data.DAYNAME.nunique())\n",
    "\n",
    "print()\n",
    "\n",
    "print('Months present in dataframe:',flight_data.MONTH.unique())\n",
    "print('Months present in dataframe:', flight_data.MONTH_AB.unique())\n",
    "\n",
    "print()\n",
    "print('Days present in dataframe:', flight_data['DAYOFWEEK'].unique())\n",
    "print('Days present in dataframe:', flight_data.DAYNAME.unique())"
   ]
  },
  {
   "cell_type": "markdown",
   "metadata": {},
   "source": [
    "#### Rename of Airports and city name\n",
    "\n",
    "We plan to convert the IATA airport codes in the origin and destination columns into actual city names, enabling more detailed flight analysis on a per-city basis as part of the Exploratory Data Analysis (EDA). To achieve this, We've identified a file named \"airports\" from 2015. It's important to note that this file might be incomplete, so We'll need to examine its contents and strategize on how to enhance its data for my analysis. The initial step involves loading the file and exploring its contents to better understand its structure and potential for completion."
   ]
  },
  {
   "cell_type": "markdown",
   "metadata": {},
   "source": [
    "Columns `ORIGIN` and `DEST` are made up of the IATA airports codes to display the origin and destination. Cleaning of the columns are required to obtain the city name for further flight analysis by destination.\n",
    "For this purpose we found a file called airports from 2015."
   ]
  },
  {
   "cell_type": "code",
   "execution_count": 31,
   "metadata": {},
   "outputs": [
    {
     "data": {
      "text/html": [
       "<div>\n",
       "<style scoped>\n",
       "    .dataframe tbody tr th:only-of-type {\n",
       "        vertical-align: middle;\n",
       "    }\n",
       "\n",
       "    .dataframe tbody tr th {\n",
       "        vertical-align: top;\n",
       "    }\n",
       "\n",
       "    .dataframe thead th {\n",
       "        text-align: right;\n",
       "    }\n",
       "</style>\n",
       "<table border=\"1\" class=\"dataframe\">\n",
       "  <thead>\n",
       "    <tr style=\"text-align: right;\">\n",
       "      <th></th>\n",
       "      <th>IATA_CODE</th>\n",
       "      <th>AIRPORT</th>\n",
       "      <th>CITY</th>\n",
       "    </tr>\n",
       "  </thead>\n",
       "  <tbody>\n",
       "    <tr>\n",
       "      <th>0</th>\n",
       "      <td>AZA</td>\n",
       "      <td>Phoenix-Mesa Gateway Airport</td>\n",
       "      <td>NaN</td>\n",
       "    </tr>\n",
       "    <tr>\n",
       "      <th>1</th>\n",
       "      <td>BKG</td>\n",
       "      <td>Branson Airport</td>\n",
       "      <td>NaN</td>\n",
       "    </tr>\n",
       "    <tr>\n",
       "      <th>2</th>\n",
       "      <td>ABE</td>\n",
       "      <td>Lehigh Valley International Airport</td>\n",
       "      <td>Allentown</td>\n",
       "    </tr>\n",
       "    <tr>\n",
       "      <th>3</th>\n",
       "      <td>ABI</td>\n",
       "      <td>Abilene Regional Airport</td>\n",
       "      <td>Abilene</td>\n",
       "    </tr>\n",
       "    <tr>\n",
       "      <th>4</th>\n",
       "      <td>ABQ</td>\n",
       "      <td>Albuquerque International Sunport</td>\n",
       "      <td>Albuquerque</td>\n",
       "    </tr>\n",
       "    <tr>\n",
       "      <th>5</th>\n",
       "      <td>ABR</td>\n",
       "      <td>Aberdeen Regional Airport</td>\n",
       "      <td>Aberdeen</td>\n",
       "    </tr>\n",
       "    <tr>\n",
       "      <th>6</th>\n",
       "      <td>ABY</td>\n",
       "      <td>Southwest Georgia Regional Airport</td>\n",
       "      <td>Albany</td>\n",
       "    </tr>\n",
       "    <tr>\n",
       "      <th>7</th>\n",
       "      <td>ACK</td>\n",
       "      <td>Nantucket Memorial Airport</td>\n",
       "      <td>Nantucket</td>\n",
       "    </tr>\n",
       "    <tr>\n",
       "      <th>8</th>\n",
       "      <td>ACT</td>\n",
       "      <td>Waco Regional Airport</td>\n",
       "      <td>Waco</td>\n",
       "    </tr>\n",
       "    <tr>\n",
       "      <th>9</th>\n",
       "      <td>ACV</td>\n",
       "      <td>Arcata Airport</td>\n",
       "      <td>Arcata/Eureka</td>\n",
       "    </tr>\n",
       "  </tbody>\n",
       "</table>\n",
       "</div>"
      ],
      "text/plain": [
       "  IATA_CODE                              AIRPORT           CITY\n",
       "0       AZA         Phoenix-Mesa Gateway Airport            NaN\n",
       "1       BKG                      Branson Airport            NaN\n",
       "2       ABE  Lehigh Valley International Airport      Allentown\n",
       "3       ABI             Abilene Regional Airport        Abilene\n",
       "4       ABQ    Albuquerque International Sunport    Albuquerque\n",
       "5       ABR            Aberdeen Regional Airport       Aberdeen\n",
       "6       ABY   Southwest Georgia Regional Airport         Albany\n",
       "7       ACK           Nantucket Memorial Airport      Nantucket\n",
       "8       ACT                Waco Regional Airport           Waco\n",
       "9       ACV                       Arcata Airport  Arcata/Eureka"
      ]
     },
     "execution_count": 31,
     "metadata": {},
     "output_type": "execute_result"
    }
   ],
   "source": [
    "airports = pd.read_csv('airports.csv')\n",
    "airports.head(10)"
   ]
  },
  {
   "cell_type": "code",
   "execution_count": 32,
   "metadata": {},
   "outputs": [
    {
     "name": "stdout",
     "output_type": "stream",
     "text": [
      "There are 353 rows and 3 columns from the airport dataset.\n"
     ]
    }
   ],
   "source": [
    "# Check dimension of dataset\n",
    "airports.shape\n",
    "print(\"There are \"+ str(airports.shape[0]) +\" rows and \"+ str(airports.shape[1]) +\" columns from the airport dataset.\")"
   ]
  },
  {
   "cell_type": "code",
   "execution_count": 33,
   "metadata": {},
   "outputs": [
    {
     "name": "stdout",
     "output_type": "stream",
     "text": [
      "There are 353 records\n"
     ]
    }
   ],
   "source": [
    "print(\"There are \"+str(len(airports.IATA_CODE.unique()))+\" records\")"
   ]
  },
  {
   "cell_type": "code",
   "execution_count": 34,
   "metadata": {},
   "outputs": [],
   "source": [
    "# Covert to list\n",
    "airport_IATA_CODE = list(airports['IATA_CODE'])"
   ]
  },
  {
   "cell_type": "code",
   "execution_count": 35,
   "metadata": {},
   "outputs": [
    {
     "data": {
      "text/plain": [
       "array(['EWR', 'IAH', 'SFO', 'ORD', 'SEA', 'FSD', 'DSM', 'ILM', 'JAN',\n",
       "       'OAJ', 'TLH', 'CHS', 'CID', 'BMI', 'ABY', 'DHN', 'MDT', 'FSM',\n",
       "       'HSV', 'TYS', 'BQK', 'CHA', 'GSP', 'AGS', 'MOB', 'MGM', 'TRI',\n",
       "       'GSO', 'AVL', 'CSG', 'VLD', 'PIA', 'LFT', 'GNV', 'FAY', 'BTV',\n",
       "       'AEX', 'FAR', 'EWN', 'CAE', 'BOS', 'MYR', 'BTR', 'TUL', 'ECP',\n",
       "       'LEX', 'ELM', 'VPS', 'PHF', 'RST', 'CRW', 'SDF', 'XNA', 'LNK',\n",
       "       'HPN', 'BHM', 'GRK', 'EYW', 'SGF', 'GPT', 'ABE', 'MLI', 'EVV',\n",
       "       'DEN', 'MCO', 'AUS', 'MIA', 'LGA', 'SLC', 'BWI', 'DTW', 'FLL',\n",
       "       'LAS', 'PHL', 'DFW', 'CLE', 'LAX', 'MSY', 'MSP', 'TPA', 'CLT',\n",
       "       'FWA', 'SHV', 'ASE', 'SBN', 'MLU', 'GTR', 'ROA', 'CMH', 'DAL',\n",
       "       'DCA', 'HOU', 'IAD', 'IND', 'JAX', 'MCI', 'MDW', 'MKE', 'OAK',\n",
       "       'PBI', 'PHX', 'PIT', 'RDU', 'RIC', 'RSW', 'SAN', 'SAT', 'STL',\n",
       "       'JFK', 'STT', 'DAB', 'SJU', 'OMA', 'CAK', 'STX', 'PDX', 'BDL',\n",
       "       'HNL', 'ELP', 'CVG', 'GRR', 'FNT', 'MEM', 'SJC', 'BNA', 'ORF',\n",
       "       'OKC', 'BUF', 'ABQ', 'BZN', 'MLB', 'PNS', 'DAY', 'TUS', 'PWM',\n",
       "       'PVD', 'ROC', 'LIT', 'ATW', 'SRQ', 'HDN', 'MTJ', 'CHO', 'JAC',\n",
       "       'SAV', 'SNA', 'RNO', 'EGE', 'MSN', 'SYR', 'COS', 'MHT', 'SMF',\n",
       "       'ALB', 'ICT', 'AVP', 'TTN', 'GRB', 'GJT', 'ISP', 'ACY', 'ANC',\n",
       "       'FCA', 'RAP', 'MSO', 'TVC', 'PSP'], dtype=object)"
      ]
     },
     "execution_count": 35,
     "metadata": {},
     "output_type": "execute_result"
    }
   ],
   "source": [
    "flight_data.ORIGIN.unique()"
   ]
  },
  {
   "cell_type": "code",
   "execution_count": 36,
   "metadata": {},
   "outputs": [
    {
     "name": "stdout",
     "output_type": "stream",
     "text": [
      "Type:\n",
      "<class 'list'>\n",
      "<class 'list'>\n",
      "\n",
      "Length:\n",
      "Origin: 167\n",
      "Destination: 1\n"
     ]
    }
   ],
   "source": [
    "# Get the list of origin and destination from `flight_data` \n",
    "flight_ORIGIN = flight_data.ORIGIN.unique().tolist()\n",
    "flight_DEST = flight_data.DEST.unique().tolist()\n",
    "\n",
    "# Check type\n",
    "print(\"Type:\")\n",
    "print(type(flight_ORIGIN))\n",
    "print(type(flight_DEST))\n",
    "print()\n",
    "print(\"Length:\")\n",
    "print(\"Origin: \"+str(len(flight_ORIGIN)))\n",
    "print(\"Destination: \"+str(len(flight_DEST)))"
   ]
  },
  {
   "cell_type": "markdown",
   "metadata": {},
   "source": [
    "#### Between flight_ORIGIN and airport_IATA_CODE"
   ]
  },
  {
   "cell_type": "code",
   "execution_count": 37,
   "metadata": {},
   "outputs": [
    {
     "name": "stdout",
     "output_type": "stream",
     "text": [
      "IATA Code (Origin) that is not found from the airport data:\n",
      "[]\n",
      "\n",
      "There are 0\n"
     ]
    }
   ],
   "source": [
    "difference = [item for item in flight_ORIGIN if item not in airport_IATA_CODE]\n",
    "print(\"IATA Code (Origin) that is not found from the airport data:\")\n",
    "print(difference)\n",
    "print()\n",
    "print(\"There are \"+str(len(difference)))"
   ]
  },
  {
   "cell_type": "markdown",
   "metadata": {},
   "source": [
    "#### Between flight_DEST and airport_IATA_CODE"
   ]
  },
  {
   "cell_type": "code",
   "execution_count": 38,
   "metadata": {},
   "outputs": [
    {
     "name": "stdout",
     "output_type": "stream",
     "text": [
      "IATA Code (Destination) that is not found from airport data:\n",
      "[]\n",
      "\n"
     ]
    }
   ],
   "source": [
    "difference_2 = [item for item in flight_DEST if item not in airport_IATA_CODE]\n",
    "print(\"IATA Code (Destination) that is not found from airport data:\")\n",
    "print(difference_2)\n",
    "print()"
   ]
  },
  {
   "cell_type": "markdown",
   "metadata": {},
   "source": [
    "The next step if to save this dataframe as a .csv file and to open it in Excel where we will add the necessary columns to make it match with the airports dataframe. These columns are:\n",
    "\n",
    "* Airport Name<br>\n",
    "* City Name<br>"
   ]
  },
  {
   "cell_type": "code",
   "execution_count": 39,
   "metadata": {},
   "outputs": [
    {
     "name": "stdout",
     "output_type": "stream",
     "text": [
      "<class 'dict'>\n"
     ]
    }
   ],
   "source": [
    "# Creating a dictionary and looking at its type.\n",
    "airport_dict = pd.Series(airports.AIRPORT.values, index=airports.IATA_CODE).to_dict()\n",
    "print(type(airport_dict))"
   ]
  },
  {
   "cell_type": "code",
   "execution_count": 40,
   "metadata": {},
   "outputs": [
    {
     "data": {
      "text/html": [
       "<div>\n",
       "<style scoped>\n",
       "    .dataframe tbody tr th:only-of-type {\n",
       "        vertical-align: middle;\n",
       "    }\n",
       "\n",
       "    .dataframe tbody tr th {\n",
       "        vertical-align: top;\n",
       "    }\n",
       "\n",
       "    .dataframe thead th {\n",
       "        text-align: right;\n",
       "    }\n",
       "</style>\n",
       "<table border=\"1\" class=\"dataframe\">\n",
       "  <thead>\n",
       "    <tr style=\"text-align: right;\">\n",
       "      <th></th>\n",
       "      <th>FL_DATE</th>\n",
       "      <th>OP_CARRIER</th>\n",
       "      <th>ORIGIN</th>\n",
       "      <th>DEST</th>\n",
       "      <th>DEP_DELAY</th>\n",
       "      <th>TAXI_OUT</th>\n",
       "      <th>TAXI_IN</th>\n",
       "      <th>ARR_DELAY</th>\n",
       "      <th>DIVERTED</th>\n",
       "      <th>CRS_ELAPSED_TIME</th>\n",
       "      <th>ACTUAL_ELAPSED_TIME</th>\n",
       "      <th>AIR_TIME</th>\n",
       "      <th>DISTANCE</th>\n",
       "      <th>CARRIER_DELAY</th>\n",
       "      <th>WEATHER_DELAY</th>\n",
       "      <th>NAS_DELAY</th>\n",
       "      <th>SECURITY_DELAY</th>\n",
       "      <th>LATE_AIRCRAFT_DELAY</th>\n",
       "      <th>WHEELS_OFF_elapse</th>\n",
       "      <th>WHEELS_ON_elapse</th>\n",
       "      <th>DAY</th>\n",
       "      <th>MONTH</th>\n",
       "      <th>MONTH_AB</th>\n",
       "      <th>DAYOFWEEK</th>\n",
       "      <th>DAYNAME</th>\n",
       "      <th>WEEKDAY</th>\n",
       "    </tr>\n",
       "  </thead>\n",
       "  <tbody>\n",
       "    <tr>\n",
       "      <th>13</th>\n",
       "      <td>2018-01-01</td>\n",
       "      <td>United Airlines</td>\n",
       "      <td>Newark Liberty International Airport</td>\n",
       "      <td>Hartsfield-Jackson Atlanta International Airport</td>\n",
       "      <td>11.0</td>\n",
       "      <td>11.0</td>\n",
       "      <td>5.0</td>\n",
       "      <td>-3.0</td>\n",
       "      <td>0.0</td>\n",
       "      <td>154.0</td>\n",
       "      <td>140.0</td>\n",
       "      <td>124.0</td>\n",
       "      <td>746.0</td>\n",
       "      <td>0.0</td>\n",
       "      <td>0.0</td>\n",
       "      <td>0.0</td>\n",
       "      <td>0.0</td>\n",
       "      <td>0.0</td>\n",
       "      <td>11.0</td>\n",
       "      <td>5.0</td>\n",
       "      <td>1</td>\n",
       "      <td>1</td>\n",
       "      <td>Jan</td>\n",
       "      <td>0</td>\n",
       "      <td>Monday</td>\n",
       "      <td>1</td>\n",
       "    </tr>\n",
       "    <tr>\n",
       "      <th>241</th>\n",
       "      <td>2018-01-01</td>\n",
       "      <td>United Airlines</td>\n",
       "      <td>Newark Liberty International Airport</td>\n",
       "      <td>Hartsfield-Jackson Atlanta International Airport</td>\n",
       "      <td>20.0</td>\n",
       "      <td>13.0</td>\n",
       "      <td>9.0</td>\n",
       "      <td>12.0</td>\n",
       "      <td>0.0</td>\n",
       "      <td>154.0</td>\n",
       "      <td>146.0</td>\n",
       "      <td>124.0</td>\n",
       "      <td>746.0</td>\n",
       "      <td>0.0</td>\n",
       "      <td>0.0</td>\n",
       "      <td>0.0</td>\n",
       "      <td>0.0</td>\n",
       "      <td>0.0</td>\n",
       "      <td>13.0</td>\n",
       "      <td>9.0</td>\n",
       "      <td>1</td>\n",
       "      <td>1</td>\n",
       "      <td>Jan</td>\n",
       "      <td>0</td>\n",
       "      <td>Monday</td>\n",
       "      <td>1</td>\n",
       "    </tr>\n",
       "    <tr>\n",
       "      <th>349</th>\n",
       "      <td>2018-01-01</td>\n",
       "      <td>United Airlines</td>\n",
       "      <td>Newark Liberty International Airport</td>\n",
       "      <td>Hartsfield-Jackson Atlanta International Airport</td>\n",
       "      <td>0.0</td>\n",
       "      <td>14.0</td>\n",
       "      <td>5.0</td>\n",
       "      <td>-17.0</td>\n",
       "      <td>0.0</td>\n",
       "      <td>154.0</td>\n",
       "      <td>137.0</td>\n",
       "      <td>118.0</td>\n",
       "      <td>746.0</td>\n",
       "      <td>0.0</td>\n",
       "      <td>0.0</td>\n",
       "      <td>0.0</td>\n",
       "      <td>0.0</td>\n",
       "      <td>0.0</td>\n",
       "      <td>14.0</td>\n",
       "      <td>5.0</td>\n",
       "      <td>1</td>\n",
       "      <td>1</td>\n",
       "      <td>Jan</td>\n",
       "      <td>0</td>\n",
       "      <td>Monday</td>\n",
       "      <td>1</td>\n",
       "    </tr>\n",
       "    <tr>\n",
       "      <th>517</th>\n",
       "      <td>2018-01-01</td>\n",
       "      <td>United Airlines</td>\n",
       "      <td>George Bush Intercontinental Airport</td>\n",
       "      <td>Hartsfield-Jackson Atlanta International Airport</td>\n",
       "      <td>201.0</td>\n",
       "      <td>12.0</td>\n",
       "      <td>7.0</td>\n",
       "      <td>184.0</td>\n",
       "      <td>0.0</td>\n",
       "      <td>121.0</td>\n",
       "      <td>104.0</td>\n",
       "      <td>85.0</td>\n",
       "      <td>689.0</td>\n",
       "      <td>0.0</td>\n",
       "      <td>0.0</td>\n",
       "      <td>132.0</td>\n",
       "      <td>0.0</td>\n",
       "      <td>52.0</td>\n",
       "      <td>12.0</td>\n",
       "      <td>7.0</td>\n",
       "      <td>1</td>\n",
       "      <td>1</td>\n",
       "      <td>Jan</td>\n",
       "      <td>0</td>\n",
       "      <td>Monday</td>\n",
       "      <td>1</td>\n",
       "    </tr>\n",
       "    <tr>\n",
       "      <th>686</th>\n",
       "      <td>2018-01-01</td>\n",
       "      <td>United Airlines</td>\n",
       "      <td>Newark Liberty International Airport</td>\n",
       "      <td>Hartsfield-Jackson Atlanta International Airport</td>\n",
       "      <td>9.0</td>\n",
       "      <td>26.0</td>\n",
       "      <td>5.0</td>\n",
       "      <td>5.0</td>\n",
       "      <td>0.0</td>\n",
       "      <td>154.0</td>\n",
       "      <td>150.0</td>\n",
       "      <td>119.0</td>\n",
       "      <td>746.0</td>\n",
       "      <td>0.0</td>\n",
       "      <td>0.0</td>\n",
       "      <td>0.0</td>\n",
       "      <td>0.0</td>\n",
       "      <td>0.0</td>\n",
       "      <td>26.0</td>\n",
       "      <td>5.0</td>\n",
       "      <td>1</td>\n",
       "      <td>1</td>\n",
       "      <td>Jan</td>\n",
       "      <td>0</td>\n",
       "      <td>Monday</td>\n",
       "      <td>1</td>\n",
       "    </tr>\n",
       "  </tbody>\n",
       "</table>\n",
       "</div>"
      ],
      "text/plain": [
       "       FL_DATE       OP_CARRIER                                ORIGIN  \\\n",
       "13  2018-01-01  United Airlines  Newark Liberty International Airport   \n",
       "241 2018-01-01  United Airlines  Newark Liberty International Airport   \n",
       "349 2018-01-01  United Airlines  Newark Liberty International Airport   \n",
       "517 2018-01-01  United Airlines  George Bush Intercontinental Airport   \n",
       "686 2018-01-01  United Airlines  Newark Liberty International Airport   \n",
       "\n",
       "                                                 DEST  DEP_DELAY  TAXI_OUT  \\\n",
       "13   Hartsfield-Jackson Atlanta International Airport       11.0      11.0   \n",
       "241  Hartsfield-Jackson Atlanta International Airport       20.0      13.0   \n",
       "349  Hartsfield-Jackson Atlanta International Airport        0.0      14.0   \n",
       "517  Hartsfield-Jackson Atlanta International Airport      201.0      12.0   \n",
       "686  Hartsfield-Jackson Atlanta International Airport        9.0      26.0   \n",
       "\n",
       "     TAXI_IN  ARR_DELAY  DIVERTED  CRS_ELAPSED_TIME  ACTUAL_ELAPSED_TIME  \\\n",
       "13       5.0       -3.0       0.0             154.0                140.0   \n",
       "241      9.0       12.0       0.0             154.0                146.0   \n",
       "349      5.0      -17.0       0.0             154.0                137.0   \n",
       "517      7.0      184.0       0.0             121.0                104.0   \n",
       "686      5.0        5.0       0.0             154.0                150.0   \n",
       "\n",
       "     AIR_TIME  DISTANCE  CARRIER_DELAY  WEATHER_DELAY  NAS_DELAY  \\\n",
       "13      124.0     746.0            0.0            0.0        0.0   \n",
       "241     124.0     746.0            0.0            0.0        0.0   \n",
       "349     118.0     746.0            0.0            0.0        0.0   \n",
       "517      85.0     689.0            0.0            0.0      132.0   \n",
       "686     119.0     746.0            0.0            0.0        0.0   \n",
       "\n",
       "     SECURITY_DELAY  LATE_AIRCRAFT_DELAY  WHEELS_OFF_elapse  WHEELS_ON_elapse  \\\n",
       "13              0.0                  0.0               11.0               5.0   \n",
       "241             0.0                  0.0               13.0               9.0   \n",
       "349             0.0                  0.0               14.0               5.0   \n",
       "517             0.0                 52.0               12.0               7.0   \n",
       "686             0.0                  0.0               26.0               5.0   \n",
       "\n",
       "     DAY  MONTH MONTH_AB  DAYOFWEEK DAYNAME  WEEKDAY  \n",
       "13     1      1      Jan          0  Monday        1  \n",
       "241    1      1      Jan          0  Monday        1  \n",
       "349    1      1      Jan          0  Monday        1  \n",
       "517    1      1      Jan          0  Monday        1  \n",
       "686    1      1      Jan          0  Monday        1  "
      ]
     },
     "execution_count": 40,
     "metadata": {},
     "output_type": "execute_result"
    }
   ],
   "source": [
    "flight_data['ORIGIN'].replace(airport_dict, inplace=True)\n",
    "flight_data['DEST'].replace(airport_dict, inplace=True)\n",
    "flight_data.head()"
   ]
  },
  {
   "cell_type": "markdown",
   "metadata": {},
   "source": [
    "#### Transformation of Target attribute: Flight status\n",
    "`FLIGHT_STATUS` is the outcome of the flight whether it arrives destination on time or it is delayed, thus the responses is binary where 0 is for flights that arrive earlier or on time and 1 is for flights that are delayed. "
   ]
  },
  {
   "cell_type": "code",
   "execution_count": 41,
   "metadata": {},
   "outputs": [],
   "source": [
    "status = []\n",
    "\n",
    "for value in flight_data['ARR_DELAY']:\n",
    "    if value <= 15:\n",
    "        status.append(0)\n",
    "    else:\n",
    "        status.append(1)\n",
    "flight_data['FLIGHT_STATUS'] = status    "
   ]
  },
  {
   "cell_type": "markdown",
   "metadata": {},
   "source": [
    "### Exploratory Data Analysis "
   ]
  },
  {
   "cell_type": "code",
   "execution_count": 42,
   "metadata": {},
   "outputs": [],
   "source": [
    "flight_category = flight_data.select_dtypes(include=['object','category'])\n",
    "flight_numerical = flight_data.select_dtypes(exclude=['object'])"
   ]
  },
  {
   "cell_type": "code",
   "execution_count": 43,
   "metadata": {},
   "outputs": [
    {
     "data": {
      "text/plain": [
       "[Text(0.5, 0, 'Number of counts')]"
      ]
     },
     "execution_count": 43,
     "metadata": {},
     "output_type": "execute_result"
    },
    {
     "data": {
      "image/png": "[encoded data removed]",
      "text/plain": [
       "<Figure size 640x480 with 1 Axes>"
      ]
     },
     "metadata": {},
     "output_type": "display_data"
    }
   ],
   "source": [
    "# Output Barplot showing the occurence of flight outcome\n",
    "\n",
    "sns.set_context(\"notebook\")\n",
    "g=sns.countplot(x=\"FLIGHT_STATUS\",data=flight_data)\n",
    "g.set(xlabel=\"Number of counts\")"
   ]
  },
  {
   "cell_type": "code",
   "execution_count": 44,
   "metadata": {},
   "outputs": [
    {
     "data": {
      "text/plain": [
       "[Text(0.5, 0, 'Number of counts')]"
      ]
     },
     "execution_count": 44,
     "metadata": {},
     "output_type": "execute_result"
    },
    {
     "data": {
      "image/png": "[encoded data removed]",
      "text/plain": [
       "<Figure size 640x480 with 1 Axes>"
      ]
     },
     "metadata": {},
     "output_type": "display_data"
    }
   ],
   "source": [
    "# Output Barplot showing the occurence of each categorical features         \n",
    "\n",
    "sns.set_context(\"notebook\")\n",
    "g=sns.countplot(y=\"OP_CARRIER\",data=flight_category)\n",
    "g.set(xlabel=\"Number of counts\")"
   ]
  },
  {
   "cell_type": "code",
   "execution_count": 45,
   "metadata": {},
   "outputs": [
    {
     "data": {
      "text/plain": [
       "[Text(0.5, 0, 'Number of counts')]"
      ]
     },
     "execution_count": 45,
     "metadata": {},
     "output_type": "execute_result"
    },
    {
     "data": {
      "image/png": "[encoded data removed]",
      "text/plain": [
       "<Figure size 640x480 with 1 Axes>"
      ]
     },
     "metadata": {},
     "output_type": "display_data"
    }
   ],
   "source": [
    "# Output Barplot showing the occurence of each categorical features         \n",
    "sns.set_context(\"notebook\")\n",
    "g=sns.countplot(y=\"DEST\",data=flight_category)\n",
    "g.set(xlabel=\"Number of counts\")"
   ]
  },
  {
   "cell_type": "code",
   "execution_count": 46,
   "metadata": {},
   "outputs": [
    {
     "data": {
      "image/png": "[encoded data removed]",
      "text/plain": [
       "<Figure size 1200x1200 with 2 Axes>"
      ]
     },
     "metadata": {},
     "output_type": "display_data"
    }
   ],
   "source": [
    "# Finding categorical features\n",
    "category = []\n",
    "for i in flight_category:\n",
    "    if i in [\"ORIGIN\",\"DEST\",\"OP_CARRIER\",\"FLIGHT_STATUS\"]:\n",
    "        pass\n",
    "    else:\n",
    "        category.append(i)\n",
    "        \n",
    "# Output Barplot showing the occurence of each categorical features         \n",
    "fig, ax = plt.subplots(ncols=2, figsize=(12,12))\n",
    "plt.subplots_adjust(right=2)\n",
    "plt.subplots_adjust(top=2.5)\n",
    "sns.color_palette(\"husl\", 8)\n",
    "sns.set_context(\"poster\")\n",
    "\n",
    "#ncols=2,nrows=round(len(list(category))/2)\n",
    "\n",
    "for i, feature in enumerate(list(flight_category[category]), 1):\n",
    "    plt.subplot(len(list(category)), 2, i)\n",
    "    g=sns.countplot(x=feature,data=flight_category)\n",
    "    g.set(ylabel=\"Number of counts\")\n",
    "    plt.xticks(rotation=45)\n",
    "   \n",
    "plt.show()"
   ]
  },
  {
   "cell_type": "markdown",
   "metadata": {},
   "source": [
    "### Classification Modelling"
   ]
  },
  {
   "cell_type": "markdown",
   "metadata": {},
   "source": [
    "#### Data Preparation\n",
    "- Encoding\n",
    "- Feature Selection\n"
   ]
  },
  {
   "cell_type": "markdown",
   "metadata": {},
   "source": [
    "#### One hot encoding for categorical attributes\n",
    "\n",
    "We transformed certain categorical variables into numeric representations using the one-hot encoding method. This technique involves creating a dummy variable for each distinct category in the original categorical variable. When a specific category is present, the corresponding dummy variable is assigned a value of 1; otherwise, it is set to 0."
   ]
  },
  {
   "cell_type": "code",
   "execution_count": 47,
   "metadata": {},
   "outputs": [],
   "source": [
    "Carrier = pd.get_dummies(flight_data['OP_CARRIER'],prefix=\"OP_CARRIER\",drop_first=False)\n",
    "month= pd.get_dummies(flight_data['MONTH_AB'],prefix=\"MONTH\",drop_first=False)\n",
    "day= pd.get_dummies(flight_data['DAYNAME'],prefix=\"DAY\",drop_first=False)\n",
    "flight_data_new=pd.concat([flight_data,Carrier,month,day],axis=1)"
   ]
  },
  {
   "cell_type": "code",
   "execution_count": 48,
   "metadata": {},
   "outputs": [
    {
     "data": {
      "text/html": [
       "<div>\n",
       "<style scoped>\n",
       "    .dataframe tbody tr th:only-of-type {\n",
       "        vertical-align: middle;\n",
       "    }\n",
       "\n",
       "    .dataframe tbody tr th {\n",
       "        vertical-align: top;\n",
       "    }\n",
       "\n",
       "    .dataframe thead th {\n",
       "        text-align: right;\n",
       "    }\n",
       "</style>\n",
       "<table border=\"1\" class=\"dataframe\">\n",
       "  <thead>\n",
       "    <tr style=\"text-align: right;\">\n",
       "      <th></th>\n",
       "      <th>FL_DATE</th>\n",
       "      <th>OP_CARRIER</th>\n",
       "      <th>ORIGIN</th>\n",
       "      <th>DEST</th>\n",
       "      <th>DEP_DELAY</th>\n",
       "      <th>TAXI_OUT</th>\n",
       "      <th>TAXI_IN</th>\n",
       "      <th>ARR_DELAY</th>\n",
       "      <th>DIVERTED</th>\n",
       "      <th>CRS_ELAPSED_TIME</th>\n",
       "      <th>ACTUAL_ELAPSED_TIME</th>\n",
       "      <th>AIR_TIME</th>\n",
       "      <th>DISTANCE</th>\n",
       "      <th>CARRIER_DELAY</th>\n",
       "      <th>WEATHER_DELAY</th>\n",
       "      <th>NAS_DELAY</th>\n",
       "      <th>SECURITY_DELAY</th>\n",
       "      <th>LATE_AIRCRAFT_DELAY</th>\n",
       "      <th>WHEELS_OFF_elapse</th>\n",
       "      <th>WHEELS_ON_elapse</th>\n",
       "      <th>DAY</th>\n",
       "      <th>MONTH</th>\n",
       "      <th>MONTH_AB</th>\n",
       "      <th>DAYOFWEEK</th>\n",
       "      <th>DAYNAME</th>\n",
       "      <th>WEEKDAY</th>\n",
       "      <th>FLIGHT_STATUS</th>\n",
       "      <th>OP_CARRIER_Alaska Airlines</th>\n",
       "      <th>OP_CARRIER_American Airlines</th>\n",
       "      <th>OP_CARRIER_Delta Airlines</th>\n",
       "      <th>OP_CARRIER_Endeavor Air</th>\n",
       "      <th>OP_CARRIER_Envoy Air</th>\n",
       "      <th>OP_CARRIER_ExpressJet</th>\n",
       "      <th>OP_CARRIER_Frontier Airlines</th>\n",
       "      <th>OP_CARRIER_JetBlue Airways</th>\n",
       "      <th>OP_CARRIER_Mesa Airline</th>\n",
       "      <th>OP_CARRIER_PSA Airlines</th>\n",
       "      <th>OP_CARRIER_Republic Airways</th>\n",
       "      <th>OP_CARRIER_SkyWest Airlines</th>\n",
       "      <th>OP_CARRIER_Southwest Airlines</th>\n",
       "      <th>OP_CARRIER_Spirit Airlines</th>\n",
       "      <th>OP_CARRIER_United Airlines</th>\n",
       "      <th>MONTH_Apr</th>\n",
       "      <th>MONTH_Aug</th>\n",
       "      <th>MONTH_Dec</th>\n",
       "      <th>MONTH_Feb</th>\n",
       "      <th>MONTH_Jan</th>\n",
       "      <th>MONTH_Jul</th>\n",
       "      <th>MONTH_Jun</th>\n",
       "      <th>MONTH_Mar</th>\n",
       "      <th>MONTH_May</th>\n",
       "      <th>MONTH_Nov</th>\n",
       "      <th>MONTH_Oct</th>\n",
       "      <th>MONTH_Sep</th>\n",
       "      <th>DAY_Friday</th>\n",
       "      <th>DAY_Monday</th>\n",
       "      <th>DAY_Saturday</th>\n",
       "      <th>DAY_Sunday</th>\n",
       "      <th>DAY_Thursday</th>\n",
       "      <th>DAY_Tuesday</th>\n",
       "      <th>DAY_Wednesday</th>\n",
       "    </tr>\n",
       "  </thead>\n",
       "  <tbody>\n",
       "    <tr>\n",
       "      <th>13</th>\n",
       "      <td>2018-01-01</td>\n",
       "      <td>United Airlines</td>\n",
       "      <td>Newark Liberty International Airport</td>\n",
       "      <td>Hartsfield-Jackson Atlanta International Airport</td>\n",
       "      <td>11.0</td>\n",
       "      <td>11.0</td>\n",
       "      <td>5.0</td>\n",
       "      <td>-3.0</td>\n",
       "      <td>0.0</td>\n",
       "      <td>154.0</td>\n",
       "      <td>140.0</td>\n",
       "      <td>124.0</td>\n",
       "      <td>746.0</td>\n",
       "      <td>0.0</td>\n",
       "      <td>0.0</td>\n",
       "      <td>0.0</td>\n",
       "      <td>0.0</td>\n",
       "      <td>0.0</td>\n",
       "      <td>11.0</td>\n",
       "      <td>5.0</td>\n",
       "      <td>1</td>\n",
       "      <td>1</td>\n",
       "      <td>Jan</td>\n",
       "      <td>0</td>\n",
       "      <td>Monday</td>\n",
       "      <td>1</td>\n",
       "      <td>0</td>\n",
       "      <td>0</td>\n",
       "      <td>0</td>\n",
       "      <td>0</td>\n",
       "      <td>0</td>\n",
       "      <td>0</td>\n",
       "      <td>0</td>\n",
       "      <td>0</td>\n",
       "      <td>0</td>\n",
       "      <td>0</td>\n",
       "      <td>0</td>\n",
       "      <td>0</td>\n",
       "      <td>0</td>\n",
       "      <td>0</td>\n",
       "      <td>0</td>\n",
       "      <td>1</td>\n",
       "      <td>0</td>\n",
       "      <td>0</td>\n",
       "      <td>0</td>\n",
       "      <td>0</td>\n",
       "      <td>1</td>\n",
       "      <td>0</td>\n",
       "      <td>0</td>\n",
       "      <td>0</td>\n",
       "      <td>0</td>\n",
       "      <td>0</td>\n",
       "      <td>0</td>\n",
       "      <td>0</td>\n",
       "      <td>0</td>\n",
       "      <td>1</td>\n",
       "      <td>0</td>\n",
       "      <td>0</td>\n",
       "      <td>0</td>\n",
       "      <td>0</td>\n",
       "      <td>0</td>\n",
       "    </tr>\n",
       "    <tr>\n",
       "      <th>241</th>\n",
       "      <td>2018-01-01</td>\n",
       "      <td>United Airlines</td>\n",
       "      <td>Newark Liberty International Airport</td>\n",
       "      <td>Hartsfield-Jackson Atlanta International Airport</td>\n",
       "      <td>20.0</td>\n",
       "      <td>13.0</td>\n",
       "      <td>9.0</td>\n",
       "      <td>12.0</td>\n",
       "      <td>0.0</td>\n",
       "      <td>154.0</td>\n",
       "      <td>146.0</td>\n",
       "      <td>124.0</td>\n",
       "      <td>746.0</td>\n",
       "      <td>0.0</td>\n",
       "      <td>0.0</td>\n",
       "      <td>0.0</td>\n",
       "      <td>0.0</td>\n",
       "      <td>0.0</td>\n",
       "      <td>13.0</td>\n",
       "      <td>9.0</td>\n",
       "      <td>1</td>\n",
       "      <td>1</td>\n",
       "      <td>Jan</td>\n",
       "      <td>0</td>\n",
       "      <td>Monday</td>\n",
       "      <td>1</td>\n",
       "      <td>0</td>\n",
       "      <td>0</td>\n",
       "      <td>0</td>\n",
       "      <td>0</td>\n",
       "      <td>0</td>\n",
       "      <td>0</td>\n",
       "      <td>0</td>\n",
       "      <td>0</td>\n",
       "      <td>0</td>\n",
       "      <td>0</td>\n",
       "      <td>0</td>\n",
       "      <td>0</td>\n",
       "      <td>0</td>\n",
       "      <td>0</td>\n",
       "      <td>0</td>\n",
       "      <td>1</td>\n",
       "      <td>0</td>\n",
       "      <td>0</td>\n",
       "      <td>0</td>\n",
       "      <td>0</td>\n",
       "      <td>1</td>\n",
       "      <td>0</td>\n",
       "      <td>0</td>\n",
       "      <td>0</td>\n",
       "      <td>0</td>\n",
       "      <td>0</td>\n",
       "      <td>0</td>\n",
       "      <td>0</td>\n",
       "      <td>0</td>\n",
       "      <td>1</td>\n",
       "      <td>0</td>\n",
       "      <td>0</td>\n",
       "      <td>0</td>\n",
       "      <td>0</td>\n",
       "      <td>0</td>\n",
       "    </tr>\n",
       "  </tbody>\n",
       "</table>\n",
       "</div>"
      ],
      "text/plain": [
       "       FL_DATE       OP_CARRIER                                ORIGIN  \\\n",
       "13  2018-01-01  United Airlines  Newark Liberty International Airport   \n",
       "241 2018-01-01  United Airlines  Newark Liberty International Airport   \n",
       "\n",
       "                                                 DEST  DEP_DELAY  TAXI_OUT  \\\n",
       "13   Hartsfield-Jackson Atlanta International Airport       11.0      11.0   \n",
       "241  Hartsfield-Jackson Atlanta International Airport       20.0      13.0   \n",
       "\n",
       "     TAXI_IN  ARR_DELAY  DIVERTED  CRS_ELAPSED_TIME  ACTUAL_ELAPSED_TIME  \\\n",
       "13       5.0       -3.0       0.0             154.0                140.0   \n",
       "241      9.0       12.0       0.0             154.0                146.0   \n",
       "\n",
       "     AIR_TIME  DISTANCE  CARRIER_DELAY  WEATHER_DELAY  NAS_DELAY  \\\n",
       "13      124.0     746.0            0.0            0.0        0.0   \n",
       "241     124.0     746.0            0.0            0.0        0.0   \n",
       "\n",
       "     SECURITY_DELAY  LATE_AIRCRAFT_DELAY  WHEELS_OFF_elapse  WHEELS_ON_elapse  \\\n",
       "13              0.0                  0.0               11.0               5.0   \n",
       "241             0.0                  0.0               13.0               9.0   \n",
       "\n",
       "     DAY  MONTH MONTH_AB  DAYOFWEEK DAYNAME  WEEKDAY  FLIGHT_STATUS  \\\n",
       "13     1      1      Jan          0  Monday        1              0   \n",
       "241    1      1      Jan          0  Monday        1              0   \n",
       "\n",
       "     OP_CARRIER_Alaska Airlines  OP_CARRIER_American Airlines  \\\n",
       "13                            0                             0   \n",
       "241                           0                             0   \n",
       "\n",
       "     OP_CARRIER_Delta Airlines  OP_CARRIER_Endeavor Air  OP_CARRIER_Envoy Air  \\\n",
       "13                           0                        0                     0   \n",
       "241                          0                        0                     0   \n",
       "\n",
       "     OP_CARRIER_ExpressJet  OP_CARRIER_Frontier Airlines  \\\n",
       "13                       0                             0   \n",
       "241                      0                             0   \n",
       "\n",
       "     OP_CARRIER_JetBlue Airways  OP_CARRIER_Mesa Airline  \\\n",
       "13                            0                        0   \n",
       "241                           0                        0   \n",
       "\n",
       "     OP_CARRIER_PSA Airlines  OP_CARRIER_Republic Airways  \\\n",
       "13                         0                            0   \n",
       "241                        0                            0   \n",
       "\n",
       "     OP_CARRIER_SkyWest Airlines  OP_CARRIER_Southwest Airlines  \\\n",
       "13                             0                              0   \n",
       "241                            0                              0   \n",
       "\n",
       "     OP_CARRIER_Spirit Airlines  OP_CARRIER_United Airlines  MONTH_Apr  \\\n",
       "13                            0                           1          0   \n",
       "241                           0                           1          0   \n",
       "\n",
       "     MONTH_Aug  MONTH_Dec  MONTH_Feb  MONTH_Jan  MONTH_Jul  MONTH_Jun  \\\n",
       "13           0          0          0          1          0          0   \n",
       "241          0          0          0          1          0          0   \n",
       "\n",
       "     MONTH_Mar  MONTH_May  MONTH_Nov  MONTH_Oct  MONTH_Sep  DAY_Friday  \\\n",
       "13           0          0          0          0          0           0   \n",
       "241          0          0          0          0          0           0   \n",
       "\n",
       "     DAY_Monday  DAY_Saturday  DAY_Sunday  DAY_Thursday  DAY_Tuesday  \\\n",
       "13            1             0           0             0            0   \n",
       "241           1             0           0             0            0   \n",
       "\n",
       "     DAY_Wednesday  \n",
       "13               0  \n",
       "241              0  "
      ]
     },
     "execution_count": 48,
     "metadata": {},
     "output_type": "execute_result"
    }
   ],
   "source": [
    "flight_data_new.head(2)"
   ]
  },
  {
   "cell_type": "markdown",
   "metadata": {},
   "source": [
    "#### Feature selection"
   ]
  },
  {
   "cell_type": "markdown",
   "metadata": {},
   "source": [
    "#### Drop redundant columns"
   ]
  },
  {
   "cell_type": "code",
   "execution_count": 49,
   "metadata": {},
   "outputs": [],
   "source": [
    "# Drop the redundant columns \n",
    "\n",
    "flight_data_new.drop(['FL_DATE', \n",
    "                      'OP_CARRIER',\n",
    "                      'ORIGIN',\n",
    "                      'DEST',\n",
    "                      'DAYOFWEEK',\n",
    "                      'MONTH',\n",
    "                      'MONTH_AB',\n",
    "                      'DAY',\n",
    "                      'DAYNAME',\n",
    "                      'WEEKDAY',\n",
    "                      'ARR_DELAY',\n",
    "                      'CARRIER_DELAY',\n",
    "                      'WEATHER_DELAY',\n",
    "                      'NAS_DELAY',\n",
    "                      'SECURITY_DELAY',\n",
    "                      'LATE_AIRCRAFT_DELAY'\n",
    "                 ],\n",
    "                 axis = 1, inplace = True)"
   ]
  },
  {
   "cell_type": "code",
   "execution_count": 50,
   "metadata": {},
   "outputs": [
    {
     "name": "stdout",
     "output_type": "stream",
     "text": [
      "<class 'pandas.core.frame.DataFrame'>\n",
      "Int64Index: 384813 entries, 13 to 7213438\n",
      "Data columns (total 45 columns):\n",
      " #   Column                         Non-Null Count   Dtype  \n",
      "---  ------                         --------------   -----  \n",
      " 0   DEP_DELAY                      384813 non-null  float64\n",
      " 1   TAXI_OUT                       384813 non-null  float64\n",
      " 2   TAXI_IN                        384813 non-null  float64\n",
      " 3   DIVERTED                       384813 non-null  float64\n",
      " 4   CRS_ELAPSED_TIME               384813 non-null  float64\n",
      " 5   ACTUAL_ELAPSED_TIME            384813 non-null  float64\n",
      " 6   AIR_TIME                       384813 non-null  float64\n",
      " 7   DISTANCE                       384813 non-null  float64\n",
      " 8   WHEELS_OFF_elapse              384813 non-null  float64\n",
      " 9   WHEELS_ON_elapse               384813 non-null  float64\n",
      " 10  FLIGHT_STATUS                  384813 non-null  int64  \n",
      " 11  OP_CARRIER_Alaska Airlines     384813 non-null  uint8  \n",
      " 12  OP_CARRIER_American Airlines   384813 non-null  uint8  \n",
      " 13  OP_CARRIER_Delta Airlines      384813 non-null  uint8  \n",
      " 14  OP_CARRIER_Endeavor Air        384813 non-null  uint8  \n",
      " 15  OP_CARRIER_Envoy Air           384813 non-null  uint8  \n",
      " 16  OP_CARRIER_ExpressJet          384813 non-null  uint8  \n",
      " 17  OP_CARRIER_Frontier Airlines   384813 non-null  uint8  \n",
      " 18  OP_CARRIER_JetBlue Airways     384813 non-null  uint8  \n",
      " 19  OP_CARRIER_Mesa Airline        384813 non-null  uint8  \n",
      " 20  OP_CARRIER_PSA Airlines        384813 non-null  uint8  \n",
      " 21  OP_CARRIER_Republic Airways    384813 non-null  uint8  \n",
      " 22  OP_CARRIER_SkyWest Airlines    384813 non-null  uint8  \n",
      " 23  OP_CARRIER_Southwest Airlines  384813 non-null  uint8  \n",
      " 24  OP_CARRIER_Spirit Airlines     384813 non-null  uint8  \n",
      " 25  OP_CARRIER_United Airlines     384813 non-null  uint8  \n",
      " 26  MONTH_Apr                      384813 non-null  uint8  \n",
      " 27  MONTH_Aug                      384813 non-null  uint8  \n",
      " 28  MONTH_Dec                      384813 non-null  uint8  \n",
      " 29  MONTH_Feb                      384813 non-null  uint8  \n",
      " 30  MONTH_Jan                      384813 non-null  uint8  \n",
      " 31  MONTH_Jul                      384813 non-null  uint8  \n",
      " 32  MONTH_Jun                      384813 non-null  uint8  \n",
      " 33  MONTH_Mar                      384813 non-null  uint8  \n",
      " 34  MONTH_May                      384813 non-null  uint8  \n",
      " 35  MONTH_Nov                      384813 non-null  uint8  \n",
      " 36  MONTH_Oct                      384813 non-null  uint8  \n",
      " 37  MONTH_Sep                      384813 non-null  uint8  \n",
      " 38  DAY_Friday                     384813 non-null  uint8  \n",
      " 39  DAY_Monday                     384813 non-null  uint8  \n",
      " 40  DAY_Saturday                   384813 non-null  uint8  \n",
      " 41  DAY_Sunday                     384813 non-null  uint8  \n",
      " 42  DAY_Thursday                   384813 non-null  uint8  \n",
      " 43  DAY_Tuesday                    384813 non-null  uint8  \n",
      " 44  DAY_Wednesday                  384813 non-null  uint8  \n",
      "dtypes: float64(10), int64(1), uint8(34)\n",
      "memory usage: 47.7 MB\n"
     ]
    }
   ],
   "source": [
    "flight_data_new.info()"
   ]
  },
  {
   "cell_type": "markdown",
   "metadata": {},
   "source": [
    "#### Drop constant variable"
   ]
  },
  {
   "cell_type": "code",
   "execution_count": 51,
   "metadata": {},
   "outputs": [],
   "source": [
    "from sklearn.model_selection import train_test_split\n",
    "from feature_engine.selection import DropConstantFeatures"
   ]
  },
  {
   "cell_type": "code",
   "execution_count": 52,
   "metadata": {},
   "outputs": [
    {
     "data": {
      "text/plain": [
       "((307850, 44), (76963, 44))"
      ]
     },
     "execution_count": 52,
     "metadata": {},
     "output_type": "execute_result"
    }
   ],
   "source": [
    "# separate train and test (again, as we transformed the previous ones)\n",
    "\n",
    "X_train, X_test, y_train, y_test = train_test_split(\n",
    "    flight_data_new.drop(labels=['FLIGHT_STATUS'], axis=1),\n",
    "    flight_data_new['FLIGHT_STATUS'],\n",
    "    test_size=0.2,\n",
    "    random_state=100)\n",
    "\n",
    "X_train.shape, X_test.shape"
   ]
  },
  {
   "cell_type": "code",
   "execution_count": 53,
   "metadata": {},
   "outputs": [
    {
     "data": {
      "text/html": [
       "<style>#sk-container-id-1 {color: black;}#sk-container-id-1 pre{padding: 0;}#sk-container-id-1 div.sk-toggleable {background-color: white;}#sk-container-id-1 label.sk-toggleable__label {cursor: pointer;display: block;width: 100%;margin-bottom: 0;padding: 0.3em;box-sizing: border-box;text-align: center;}#sk-container-id-1 label.sk-toggleable__label-arrow:before {content: \"▸\";float: left;margin-right: 0.25em;color: #696969;}#sk-container-id-1 label.sk-toggleable__label-arrow:hover:before {color: black;}#sk-container-id-1 div.sk-estimator:hover label.sk-toggleable__label-arrow:before {color: black;}#sk-container-id-1 div.sk-toggleable__content {max-height: 0;max-width: 0;overflow: hidden;text-align: left;background-color: #f0f8ff;}#sk-container-id-1 div.sk-toggleable__content pre {margin: 0.2em;color: black;border-radius: 0.25em;background-color: #f0f8ff;}#sk-container-id-1 input.sk-toggleable__control:checked~div.sk-toggleable__content {max-height: 200px;max-width: 100%;overflow: auto;}#sk-container-id-1 input.sk-toggleable__control:checked~label.sk-toggleable__label-arrow:before {content: \"▾\";}#sk-container-id-1 div.sk-estimator input.sk-toggleable__control:checked~label.sk-toggleable__label {background-color: #d4ebff;}#sk-container-id-1 div.sk-label input.sk-toggleable__control:checked~label.sk-toggleable__label {background-color: #d4ebff;}#sk-container-id-1 input.sk-hidden--visually {border: 0;clip: rect(1px 1px 1px 1px);clip: rect(1px, 1px, 1px, 1px);height: 1px;margin: -1px;overflow: hidden;padding: 0;position: absolute;width: 1px;}#sk-container-id-1 div.sk-estimator {font-family: monospace;background-color: #f0f8ff;border: 1px dotted black;border-radius: 0.25em;box-sizing: border-box;margin-bottom: 0.5em;}#sk-container-id-1 div.sk-estimator:hover {background-color: #d4ebff;}#sk-container-id-1 div.sk-parallel-item::after {content: \"\";width: 100%;border-bottom: 1px solid gray;flex-grow: 1;}#sk-container-id-1 div.sk-label:hover label.sk-toggleable__label {background-color: #d4ebff;}#sk-container-id-1 div.sk-serial::before {content: \"\";position: absolute;border-left: 1px solid gray;box-sizing: border-box;top: 0;bottom: 0;left: 50%;z-index: 0;}#sk-container-id-1 div.sk-serial {display: flex;flex-direction: column;align-items: center;background-color: white;padding-right: 0.2em;padding-left: 0.2em;position: relative;}#sk-container-id-1 div.sk-item {position: relative;z-index: 1;}#sk-container-id-1 div.sk-parallel {display: flex;align-items: stretch;justify-content: center;background-color: white;position: relative;}#sk-container-id-1 div.sk-item::before, #sk-container-id-1 div.sk-parallel-item::before {content: \"\";position: absolute;border-left: 1px solid gray;box-sizing: border-box;top: 0;bottom: 0;left: 50%;z-index: -1;}#sk-container-id-1 div.sk-parallel-item {display: flex;flex-direction: column;z-index: 1;position: relative;background-color: white;}#sk-container-id-1 div.sk-parallel-item:first-child::after {align-self: flex-end;width: 50%;}#sk-container-id-1 div.sk-parallel-item:last-child::after {align-self: flex-start;width: 50%;}#sk-container-id-1 div.sk-parallel-item:only-child::after {width: 0;}#sk-container-id-1 div.sk-dashed-wrapped {border: 1px dashed gray;margin: 0 0.4em 0.5em 0.4em;box-sizing: border-box;padding-bottom: 0.4em;background-color: white;}#sk-container-id-1 div.sk-label label {font-family: monospace;font-weight: bold;display: inline-block;line-height: 1.2em;}#sk-container-id-1 div.sk-label-container {text-align: center;}#sk-container-id-1 div.sk-container {/* jupyter's `normalize.less` sets `[hidden] { display: none; }` but bootstrap.min.css set `[hidden] { display: none !important; }` so we also need the `!important` here to be able to override the default hidden behavior on the sphinx rendered scikit-learn.org. See: https://github.com/scikit-learn/scikit-learn/issues/21755 */display: inline-block !important;position: relative;}#sk-container-id-1 div.sk-text-repr-fallback {display: none;}</style><div id=\"sk-container-id-1\" class=\"sk-top-container\"><div class=\"sk-text-repr-fallback\"><pre>DropConstantFeatures()</pre><b>In a Jupyter environment, please rerun this cell to show the HTML representation or trust the notebook. <br />On GitHub, the HTML representation is unable to render, please try loading this page with nbviewer.org.</b></div><div class=\"sk-container\" hidden><div class=\"sk-item\"><div class=\"sk-estimator sk-toggleable\"><input class=\"sk-toggleable__control sk-hidden--visually\" id=\"sk-estimator-id-1\" type=\"checkbox\" checked><label for=\"sk-estimator-id-1\" class=\"sk-toggleable__label sk-toggleable__label-arrow\">DropConstantFeatures</label><div class=\"sk-toggleable__content\"><pre>DropConstantFeatures()</pre></div></div></div></div></div>"
      ],
      "text/plain": [
       "DropConstantFeatures()"
      ]
     },
     "execution_count": 53,
     "metadata": {},
     "output_type": "execute_result"
    }
   ],
   "source": [
    "sel = DropConstantFeatures(tol=1, variables=None, missing_values='raise')\n",
    "sel.fit(X_train)"
   ]
  },
  {
   "cell_type": "code",
   "execution_count": 54,
   "metadata": {},
   "outputs": [
    {
     "data": {
      "text/plain": [
       "1"
      ]
     },
     "execution_count": 54,
     "metadata": {},
     "output_type": "execute_result"
    }
   ],
   "source": [
    "# number of quasi-constant features\n",
    "\n",
    "len(sel.features_to_drop_)"
   ]
  },
  {
   "cell_type": "code",
   "execution_count": 55,
   "metadata": {},
   "outputs": [
    {
     "data": {
      "text/plain": [
       "['DIVERTED']"
      ]
     },
     "execution_count": 55,
     "metadata": {},
     "output_type": "execute_result"
    }
   ],
   "source": [
    "sel.features_to_drop_"
   ]
  },
  {
   "cell_type": "markdown",
   "metadata": {},
   "source": [
    "`DIVERTED` is a constant features with only one kind of response for all instances. This does not give any information to the model, hence we will drop it."
   ]
  },
  {
   "cell_type": "code",
   "execution_count": 56,
   "metadata": {},
   "outputs": [],
   "source": [
    "# Drop the redundant columns \n",
    "flight_data_new.drop(['DIVERTED'], axis = 1, inplace = True)"
   ]
  },
  {
   "cell_type": "code",
   "execution_count": 57,
   "metadata": {},
   "outputs": [
    {
     "data": {
      "text/plain": [
       "((307850, 43), (76963, 43))"
      ]
     },
     "execution_count": 57,
     "metadata": {},
     "output_type": "execute_result"
    }
   ],
   "source": [
    "#remove the constant features\n",
    "\n",
    "X_train = sel.transform(X_train)\n",
    "X_test = sel.transform(X_test)\n",
    "\n",
    "X_train.shape, X_test.shape"
   ]
  },
  {
   "cell_type": "markdown",
   "metadata": {},
   "source": [
    "#### Remove multicollinearity effect (Positive)"
   ]
  },
  {
   "cell_type": "code",
   "execution_count": 58,
   "metadata": {},
   "outputs": [],
   "source": [
    "corrmat = X_train.corr()\n",
    "corrmat = corrmat.abs().unstack()\n",
    "corrmat = corrmat.sort_values(ascending=False)\n",
    "corrmat = corrmat[corrmat >= 0.8]\n",
    "corrmat = corrmat[corrmat < 1]\n",
    "corrmat = pd.DataFrame(corrmat).reset_index()\n",
    "corrmat.columns = ['feature1', 'feature2', 'corr']"
   ]
  },
  {
   "cell_type": "code",
   "execution_count": 59,
   "metadata": {},
   "outputs": [
    {
     "data": {
      "text/html": [
       "<div>\n",
       "<style scoped>\n",
       "    .dataframe tbody tr th:only-of-type {\n",
       "        vertical-align: middle;\n",
       "    }\n",
       "\n",
       "    .dataframe tbody tr th {\n",
       "        vertical-align: top;\n",
       "    }\n",
       "\n",
       "    .dataframe thead th {\n",
       "        text-align: right;\n",
       "    }\n",
       "</style>\n",
       "<table border=\"1\" class=\"dataframe\">\n",
       "  <thead>\n",
       "    <tr style=\"text-align: right;\">\n",
       "      <th></th>\n",
       "      <th>feature1</th>\n",
       "      <th>feature2</th>\n",
       "      <th>corr</th>\n",
       "    </tr>\n",
       "  </thead>\n",
       "  <tbody>\n",
       "    <tr>\n",
       "      <th>0</th>\n",
       "      <td>AIR_TIME</td>\n",
       "      <td>CRS_ELAPSED_TIME</td>\n",
       "      <td>0.983980</td>\n",
       "    </tr>\n",
       "    <tr>\n",
       "      <th>1</th>\n",
       "      <td>CRS_ELAPSED_TIME</td>\n",
       "      <td>AIR_TIME</td>\n",
       "      <td>0.983980</td>\n",
       "    </tr>\n",
       "    <tr>\n",
       "      <th>2</th>\n",
       "      <td>DISTANCE</td>\n",
       "      <td>AIR_TIME</td>\n",
       "      <td>0.982961</td>\n",
       "    </tr>\n",
       "    <tr>\n",
       "      <th>3</th>\n",
       "      <td>AIR_TIME</td>\n",
       "      <td>DISTANCE</td>\n",
       "      <td>0.982961</td>\n",
       "    </tr>\n",
       "    <tr>\n",
       "      <th>4</th>\n",
       "      <td>DISTANCE</td>\n",
       "      <td>CRS_ELAPSED_TIME</td>\n",
       "      <td>0.981390</td>\n",
       "    </tr>\n",
       "    <tr>\n",
       "      <th>5</th>\n",
       "      <td>CRS_ELAPSED_TIME</td>\n",
       "      <td>DISTANCE</td>\n",
       "      <td>0.981390</td>\n",
       "    </tr>\n",
       "    <tr>\n",
       "      <th>6</th>\n",
       "      <td>AIR_TIME</td>\n",
       "      <td>ACTUAL_ELAPSED_TIME</td>\n",
       "      <td>0.978437</td>\n",
       "    </tr>\n",
       "    <tr>\n",
       "      <th>7</th>\n",
       "      <td>ACTUAL_ELAPSED_TIME</td>\n",
       "      <td>AIR_TIME</td>\n",
       "      <td>0.978437</td>\n",
       "    </tr>\n",
       "    <tr>\n",
       "      <th>8</th>\n",
       "      <td>CRS_ELAPSED_TIME</td>\n",
       "      <td>ACTUAL_ELAPSED_TIME</td>\n",
       "      <td>0.968000</td>\n",
       "    </tr>\n",
       "    <tr>\n",
       "      <th>9</th>\n",
       "      <td>ACTUAL_ELAPSED_TIME</td>\n",
       "      <td>CRS_ELAPSED_TIME</td>\n",
       "      <td>0.968000</td>\n",
       "    </tr>\n",
       "    <tr>\n",
       "      <th>10</th>\n",
       "      <td>DISTANCE</td>\n",
       "      <td>ACTUAL_ELAPSED_TIME</td>\n",
       "      <td>0.957581</td>\n",
       "    </tr>\n",
       "    <tr>\n",
       "      <th>11</th>\n",
       "      <td>ACTUAL_ELAPSED_TIME</td>\n",
       "      <td>DISTANCE</td>\n",
       "      <td>0.957581</td>\n",
       "    </tr>\n",
       "  </tbody>\n",
       "</table>\n",
       "</div>"
      ],
      "text/plain": [
       "               feature1             feature2      corr\n",
       "0              AIR_TIME     CRS_ELAPSED_TIME  0.983980\n",
       "1      CRS_ELAPSED_TIME             AIR_TIME  0.983980\n",
       "2              DISTANCE             AIR_TIME  0.982961\n",
       "3              AIR_TIME             DISTANCE  0.982961\n",
       "4              DISTANCE     CRS_ELAPSED_TIME  0.981390\n",
       "5      CRS_ELAPSED_TIME             DISTANCE  0.981390\n",
       "6              AIR_TIME  ACTUAL_ELAPSED_TIME  0.978437\n",
       "7   ACTUAL_ELAPSED_TIME             AIR_TIME  0.978437\n",
       "8      CRS_ELAPSED_TIME  ACTUAL_ELAPSED_TIME  0.968000\n",
       "9   ACTUAL_ELAPSED_TIME     CRS_ELAPSED_TIME  0.968000\n",
       "10             DISTANCE  ACTUAL_ELAPSED_TIME  0.957581\n",
       "11  ACTUAL_ELAPSED_TIME             DISTANCE  0.957581"
      ]
     },
     "execution_count": 59,
     "metadata": {},
     "output_type": "execute_result"
    }
   ],
   "source": [
    "corrmat"
   ]
  },
  {
   "cell_type": "code",
   "execution_count": 60,
   "metadata": {},
   "outputs": [
    {
     "data": {
      "text/plain": [
       "array(['AIR_TIME', 'CRS_ELAPSED_TIME', 'DISTANCE', 'ACTUAL_ELAPSED_TIME'],\n",
       "      dtype=object)"
      ]
     },
     "execution_count": 60,
     "metadata": {},
     "output_type": "execute_result"
    }
   ],
   "source": [
    "corrmat.feature1.unique()"
   ]
  },
  {
   "cell_type": "code",
   "execution_count": 61,
   "metadata": {},
   "outputs": [
    {
     "name": "stdout",
     "output_type": "stream",
     "text": [
      "found 1 correlated groups\n",
      "out of 43 total features\n"
     ]
    }
   ],
   "source": [
    "grouped_feature_ls = []\n",
    "correlated_groups = []\n",
    "\n",
    "for feature in corrmat.feature1.unique():\n",
    "    \n",
    "    if feature not in grouped_feature_ls:\n",
    "\n",
    "        # find all features correlated to a single feature\n",
    "        correlated_block = corrmat[corrmat.feature1 == feature]\n",
    "        grouped_feature_ls = grouped_feature_ls + list(\n",
    "            correlated_block.feature2.unique()) + [feature]\n",
    "\n",
    "        # append the block of features to the list\n",
    "        correlated_groups.append(correlated_block)\n",
    "\n",
    "print('found {} correlated groups'.format(len(correlated_groups)))\n",
    "print('out of {} total features'.format(X_train.shape[1]))"
   ]
  },
  {
   "cell_type": "code",
   "execution_count": 62,
   "metadata": {},
   "outputs": [
    {
     "name": "stdout",
     "output_type": "stream",
     "text": [
      "   feature1             feature2      corr\n",
      "0  AIR_TIME     CRS_ELAPSED_TIME  0.983980\n",
      "3  AIR_TIME             DISTANCE  0.982961\n",
      "6  AIR_TIME  ACTUAL_ELAPSED_TIME  0.978437\n",
      "\n"
     ]
    }
   ],
   "source": [
    "for group in correlated_groups:\n",
    "    print(group)\n",
    "    print()"
   ]
  },
  {
   "cell_type": "code",
   "execution_count": 63,
   "metadata": {},
   "outputs": [
    {
     "data": {
      "text/html": [
       "<div>\n",
       "<style scoped>\n",
       "    .dataframe tbody tr th:only-of-type {\n",
       "        vertical-align: middle;\n",
       "    }\n",
       "\n",
       "    .dataframe tbody tr th {\n",
       "        vertical-align: top;\n",
       "    }\n",
       "\n",
       "    .dataframe thead th {\n",
       "        text-align: right;\n",
       "    }\n",
       "</style>\n",
       "<table border=\"1\" class=\"dataframe\">\n",
       "  <thead>\n",
       "    <tr style=\"text-align: right;\">\n",
       "      <th></th>\n",
       "      <th>feature1</th>\n",
       "      <th>feature2</th>\n",
       "      <th>corr</th>\n",
       "    </tr>\n",
       "  </thead>\n",
       "  <tbody>\n",
       "    <tr>\n",
       "      <th>0</th>\n",
       "      <td>AIR_TIME</td>\n",
       "      <td>CRS_ELAPSED_TIME</td>\n",
       "      <td>0.983980</td>\n",
       "    </tr>\n",
       "    <tr>\n",
       "      <th>3</th>\n",
       "      <td>AIR_TIME</td>\n",
       "      <td>DISTANCE</td>\n",
       "      <td>0.982961</td>\n",
       "    </tr>\n",
       "    <tr>\n",
       "      <th>6</th>\n",
       "      <td>AIR_TIME</td>\n",
       "      <td>ACTUAL_ELAPSED_TIME</td>\n",
       "      <td>0.978437</td>\n",
       "    </tr>\n",
       "  </tbody>\n",
       "</table>\n",
       "</div>"
      ],
      "text/plain": [
       "   feature1             feature2      corr\n",
       "0  AIR_TIME     CRS_ELAPSED_TIME  0.983980\n",
       "3  AIR_TIME             DISTANCE  0.982961\n",
       "6  AIR_TIME  ACTUAL_ELAPSED_TIME  0.978437"
      ]
     },
     "execution_count": 63,
     "metadata": {},
     "output_type": "execute_result"
    }
   ],
   "source": [
    "group = correlated_groups[0]\n",
    "group"
   ]
  },
  {
   "cell_type": "code",
   "execution_count": 64,
   "metadata": {},
   "outputs": [
    {
     "data": {
      "text/html": [
       "<style>#sk-container-id-2 {color: black;}#sk-container-id-2 pre{padding: 0;}#sk-container-id-2 div.sk-toggleable {background-color: white;}#sk-container-id-2 label.sk-toggleable__label {cursor: pointer;display: block;width: 100%;margin-bottom: 0;padding: 0.3em;box-sizing: border-box;text-align: center;}#sk-container-id-2 label.sk-toggleable__label-arrow:before {content: \"▸\";float: left;margin-right: 0.25em;color: #696969;}#sk-container-id-2 label.sk-toggleable__label-arrow:hover:before {color: black;}#sk-container-id-2 div.sk-estimator:hover label.sk-toggleable__label-arrow:before {color: black;}#sk-container-id-2 div.sk-toggleable__content {max-height: 0;max-width: 0;overflow: hidden;text-align: left;background-color: #f0f8ff;}#sk-container-id-2 div.sk-toggleable__content pre {margin: 0.2em;color: black;border-radius: 0.25em;background-color: #f0f8ff;}#sk-container-id-2 input.sk-toggleable__control:checked~div.sk-toggleable__content {max-height: 200px;max-width: 100%;overflow: auto;}#sk-container-id-2 input.sk-toggleable__control:checked~label.sk-toggleable__label-arrow:before {content: \"▾\";}#sk-container-id-2 div.sk-estimator input.sk-toggleable__control:checked~label.sk-toggleable__label {background-color: #d4ebff;}#sk-container-id-2 div.sk-label input.sk-toggleable__control:checked~label.sk-toggleable__label {background-color: #d4ebff;}#sk-container-id-2 input.sk-hidden--visually {border: 0;clip: rect(1px 1px 1px 1px);clip: rect(1px, 1px, 1px, 1px);height: 1px;margin: -1px;overflow: hidden;padding: 0;position: absolute;width: 1px;}#sk-container-id-2 div.sk-estimator {font-family: monospace;background-color: #f0f8ff;border: 1px dotted black;border-radius: 0.25em;box-sizing: border-box;margin-bottom: 0.5em;}#sk-container-id-2 div.sk-estimator:hover {background-color: #d4ebff;}#sk-container-id-2 div.sk-parallel-item::after {content: \"\";width: 100%;border-bottom: 1px solid gray;flex-grow: 1;}#sk-container-id-2 div.sk-label:hover label.sk-toggleable__label {background-color: #d4ebff;}#sk-container-id-2 div.sk-serial::before {content: \"\";position: absolute;border-left: 1px solid gray;box-sizing: border-box;top: 0;bottom: 0;left: 50%;z-index: 0;}#sk-container-id-2 div.sk-serial {display: flex;flex-direction: column;align-items: center;background-color: white;padding-right: 0.2em;padding-left: 0.2em;position: relative;}#sk-container-id-2 div.sk-item {position: relative;z-index: 1;}#sk-container-id-2 div.sk-parallel {display: flex;align-items: stretch;justify-content: center;background-color: white;position: relative;}#sk-container-id-2 div.sk-item::before, #sk-container-id-2 div.sk-parallel-item::before {content: \"\";position: absolute;border-left: 1px solid gray;box-sizing: border-box;top: 0;bottom: 0;left: 50%;z-index: -1;}#sk-container-id-2 div.sk-parallel-item {display: flex;flex-direction: column;z-index: 1;position: relative;background-color: white;}#sk-container-id-2 div.sk-parallel-item:first-child::after {align-self: flex-end;width: 50%;}#sk-container-id-2 div.sk-parallel-item:last-child::after {align-self: flex-start;width: 50%;}#sk-container-id-2 div.sk-parallel-item:only-child::after {width: 0;}#sk-container-id-2 div.sk-dashed-wrapped {border: 1px dashed gray;margin: 0 0.4em 0.5em 0.4em;box-sizing: border-box;padding-bottom: 0.4em;background-color: white;}#sk-container-id-2 div.sk-label label {font-family: monospace;font-weight: bold;display: inline-block;line-height: 1.2em;}#sk-container-id-2 div.sk-label-container {text-align: center;}#sk-container-id-2 div.sk-container {/* jupyter's `normalize.less` sets `[hidden] { display: none; }` but bootstrap.min.css set `[hidden] { display: none !important; }` so we also need the `!important` here to be able to override the default hidden behavior on the sphinx rendered scikit-learn.org. See: https://github.com/scikit-learn/scikit-learn/issues/21755 */display: inline-block !important;position: relative;}#sk-container-id-2 div.sk-text-repr-fallback {display: none;}</style><div id=\"sk-container-id-2\" class=\"sk-top-container\"><div class=\"sk-text-repr-fallback\"><pre>RandomForestClassifier(max_depth=4, random_state=100)</pre><b>In a Jupyter environment, please rerun this cell to show the HTML representation or trust the notebook. <br />On GitHub, the HTML representation is unable to render, please try loading this page with nbviewer.org.</b></div><div class=\"sk-container\" hidden><div class=\"sk-item\"><div class=\"sk-estimator sk-toggleable\"><input class=\"sk-toggleable__control sk-hidden--visually\" id=\"sk-estimator-id-2\" type=\"checkbox\" checked><label for=\"sk-estimator-id-2\" class=\"sk-toggleable__label sk-toggleable__label-arrow\">RandomForestClassifier</label><div class=\"sk-toggleable__content\"><pre>RandomForestClassifier(max_depth=4, random_state=100)</pre></div></div></div></div></div>"
      ],
      "text/plain": [
       "RandomForestClassifier(max_depth=4, random_state=100)"
      ]
     },
     "execution_count": 64,
     "metadata": {},
     "output_type": "execute_result"
    }
   ],
   "source": [
    "from sklearn.ensemble import RandomForestClassifier\n",
    "\n",
    "# add all features of the group to a list\n",
    "features = list(group['feature2'].unique())+['CRS_ELAPSED_TIME']\n",
    "\n",
    "# train a random forest \n",
    "rf = RandomForestClassifier(n_estimators=100, random_state=100, max_depth=4)\n",
    "rf.fit(X_train[features].fillna(0), y_train)"
   ]
  },
  {
   "cell_type": "code",
   "execution_count": 65,
   "metadata": {},
   "outputs": [
    {
     "data": {
      "text/html": [
       "<div>\n",
       "<style scoped>\n",
       "    .dataframe tbody tr th:only-of-type {\n",
       "        vertical-align: middle;\n",
       "    }\n",
       "\n",
       "    .dataframe tbody tr th {\n",
       "        vertical-align: top;\n",
       "    }\n",
       "\n",
       "    .dataframe thead th {\n",
       "        text-align: right;\n",
       "    }\n",
       "</style>\n",
       "<table border=\"1\" class=\"dataframe\">\n",
       "  <thead>\n",
       "    <tr style=\"text-align: right;\">\n",
       "      <th></th>\n",
       "      <th>feature</th>\n",
       "      <th>importance</th>\n",
       "    </tr>\n",
       "  </thead>\n",
       "  <tbody>\n",
       "    <tr>\n",
       "      <th>2</th>\n",
       "      <td>ACTUAL_ELAPSED_TIME</td>\n",
       "      <td>0.522288</td>\n",
       "    </tr>\n",
       "    <tr>\n",
       "      <th>3</th>\n",
       "      <td>CRS_ELAPSED_TIME</td>\n",
       "      <td>0.229596</td>\n",
       "    </tr>\n",
       "    <tr>\n",
       "      <th>0</th>\n",
       "      <td>CRS_ELAPSED_TIME</td>\n",
       "      <td>0.162209</td>\n",
       "    </tr>\n",
       "    <tr>\n",
       "      <th>1</th>\n",
       "      <td>DISTANCE</td>\n",
       "      <td>0.085907</td>\n",
       "    </tr>\n",
       "  </tbody>\n",
       "</table>\n",
       "</div>"
      ],
      "text/plain": [
       "               feature  importance\n",
       "2  ACTUAL_ELAPSED_TIME    0.522288\n",
       "3     CRS_ELAPSED_TIME    0.229596\n",
       "0     CRS_ELAPSED_TIME    0.162209\n",
       "1             DISTANCE    0.085907"
      ]
     },
     "execution_count": 65,
     "metadata": {},
     "output_type": "execute_result"
    }
   ],
   "source": [
    "importance = pd.concat(\n",
    "    [pd.Series(features),\n",
    "     pd.Series(rf.feature_importances_)], axis=1)\n",
    "\n",
    "importance.columns = ['feature', 'importance']\n",
    "\n",
    "# sort features by importance, most important first\n",
    "importance.sort_values(by='importance', ascending=False)"
   ]
  },
  {
   "cell_type": "markdown",
   "metadata": {},
   "source": [
    "`ACTUAL_ELAPSED_TIME`,`CRS_ELAPSED_TIME`,`AIR_TIME` are highly correlated to each other as they are transformed from the same attributes. Thus, we keep `ACTUAL_ELAPSED_TIME` as it gives the greatest importance as compared to other attributes. "
   ]
  },
  {
   "cell_type": "code",
   "execution_count": 67,
   "metadata": {},
   "outputs": [],
   "source": [
    "# Drop the redundant columns \n",
    "flight_data_new.drop(['CRS_ELAPSED_TIME','AIR_TIME'], axis = 1, inplace = True)"
   ]
  },
  {
   "cell_type": "markdown",
   "metadata": {},
   "source": [
    "#### Remove multicollinearity effect (Negative)"
   ]
  },
  {
   "cell_type": "code",
   "execution_count": 68,
   "metadata": {},
   "outputs": [],
   "source": [
    "corrmat = X_train.corr()\n",
    "corrmat = corrmat.abs().unstack() \n",
    "corrmat = corrmat.sort_values(ascending=False)\n",
    "corrmat = corrmat[corrmat <= -0.8]\n",
    "corrmat = corrmat[corrmat > -1]\n",
    "corrmat = pd.DataFrame(corrmat).reset_index()\n",
    "corrmat.columns = ['feature1', 'feature2', 'corr']"
   ]
  },
  {
   "cell_type": "code",
   "execution_count": 69,
   "metadata": {},
   "outputs": [
    {
     "name": "stdout",
     "output_type": "stream",
     "text": [
      "found 0 correlated groups\n",
      "out of 43 total features\n"
     ]
    }
   ],
   "source": [
    "grouped_feature_ls = []\n",
    "correlated_groups = []\n",
    "\n",
    "for feature in corrmat.feature1.unique():\n",
    "    \n",
    "    if feature not in grouped_feature_ls:\n",
    "\n",
    "        # find all features correlated to a single feature\n",
    "        correlated_block = corrmat[corrmat.feature1 == feature]\n",
    "        grouped_feature_ls = grouped_feature_ls + list(\n",
    "            correlated_block.feature2.unique()) + [feature]\n",
    "\n",
    "        # append the block of features to the list\n",
    "        correlated_groups.append(correlated_block)\n",
    "\n",
    "print('found {} correlated groups'.format(len(correlated_groups)))\n",
    "print('out of {} total features'.format(X_train.shape[1]))"
   ]
  },
  {
   "cell_type": "markdown",
   "metadata": {},
   "source": [
    "#### Importance by Random Forest"
   ]
  },
  {
   "cell_type": "code",
   "execution_count": 70,
   "metadata": {},
   "outputs": [
    {
     "data": {
      "text/plain": [
       "((307850, 41), (76963, 41))"
      ]
     },
     "execution_count": 70,
     "metadata": {},
     "output_type": "execute_result"
    }
   ],
   "source": [
    "X_train, X_test, y_train, y_test = train_test_split(\n",
    "    flight_data_new.drop(labels=['FLIGHT_STATUS'], axis=1),\n",
    "    flight_data_new['FLIGHT_STATUS'],\n",
    "    test_size=0.2,\n",
    "    random_state=100)\n",
    "\n",
    "X_train.shape, X_test.shape"
   ]
  },
  {
   "cell_type": "code",
   "execution_count": 71,
   "metadata": {},
   "outputs": [
    {
     "data": {
      "text/plain": [
       "array([5.75290753e-01, 1.48949515e-01, 2.45394573e-02, 2.13851133e-02,\n",
       "       1.22917546e-02, 1.65083824e-01, 3.40303778e-02, 2.04047761e-05,\n",
       "       2.79002051e-04, 7.52589715e-03, 3.39976210e-04, 2.68026509e-05,\n",
       "       2.90750215e-05, 7.83557561e-04, 3.04235484e-04, 3.31050067e-06,\n",
       "       4.29584753e-05, 8.55263404e-05, 1.16527416e-03, 6.78598925e-04,\n",
       "       8.59623158e-05, 1.02240298e-05, 9.84306572e-05, 2.19115828e-05,\n",
       "       2.86346738e-04, 1.62219328e-04, 2.06463555e-04, 1.81809576e-04,\n",
       "       1.83061410e-03, 1.68967157e-04, 9.33899939e-05, 2.12444819e-03,\n",
       "       7.62887491e-04, 1.06269991e-04, 1.59718928e-04, 8.84797107e-05,\n",
       "       4.38028586e-04, 3.48320341e-05, 1.22682098e-04, 8.87523234e-05,\n",
       "       7.21469277e-05])"
      ]
     },
     "execution_count": 71,
     "metadata": {},
     "output_type": "execute_result"
    }
   ],
   "source": [
    "rf = RandomForestClassifier(n_estimators=100, random_state=100, max_depth=5)\n",
    "rf.fit(X_train, y_train)\n",
    "rf.feature_importances_"
   ]
  },
  {
   "cell_type": "code",
   "execution_count": 72,
   "metadata": {},
   "outputs": [
    {
     "data": {
      "image/png": "[encoded data removed]",
      "text/plain": [
       "<Figure size 2000x500 with 1 Axes>"
      ]
     },
     "metadata": {},
     "output_type": "display_data"
    }
   ],
   "source": [
    "# Sorting in descending order and rearranging feature names to match sorted feature importance\n",
    "importance = rf.feature_importances_\n",
    "indices = np.argsort(importance)[::-1] \n",
    "names = [X_train.columns[i] for i in indices]\n",
    "\n",
    "# Bar chart creation\n",
    "sns.set_context(\"notebook\")\n",
    "plt.figure(figsize=(20, 5))\n",
    "plt.title(\"Feature Importance\")\n",
    "plt.bar(range(X_train.shape[1]), importance[indices])\n",
    "plt.xticks(range(X_train.shape[1]), names, rotation = 90)\n",
    "\n",
    "plt.show()"
   ]
  },
  {
   "cell_type": "code",
   "execution_count": 73,
   "metadata": {},
   "outputs": [
    {
     "data": {
      "text/html": [
       "<div>\n",
       "<style scoped>\n",
       "    .dataframe tbody tr th:only-of-type {\n",
       "        vertical-align: middle;\n",
       "    }\n",
       "\n",
       "    .dataframe tbody tr th {\n",
       "        vertical-align: top;\n",
       "    }\n",
       "\n",
       "    .dataframe thead th {\n",
       "        text-align: right;\n",
       "    }\n",
       "</style>\n",
       "<table border=\"1\" class=\"dataframe\">\n",
       "  <thead>\n",
       "    <tr style=\"text-align: right;\">\n",
       "      <th></th>\n",
       "      <th>0</th>\n",
       "      <th>0</th>\n",
       "    </tr>\n",
       "  </thead>\n",
       "  <tbody>\n",
       "    <tr>\n",
       "      <th>0</th>\n",
       "      <td>DEP_DELAY</td>\n",
       "      <td>0.575291</td>\n",
       "    </tr>\n",
       "    <tr>\n",
       "      <th>1</th>\n",
       "      <td>WHEELS_OFF_elapse</td>\n",
       "      <td>0.165084</td>\n",
       "    </tr>\n",
       "    <tr>\n",
       "      <th>2</th>\n",
       "      <td>TAXI_OUT</td>\n",
       "      <td>0.148950</td>\n",
       "    </tr>\n",
       "    <tr>\n",
       "      <th>3</th>\n",
       "      <td>WHEELS_ON_elapse</td>\n",
       "      <td>0.034030</td>\n",
       "    </tr>\n",
       "    <tr>\n",
       "      <th>4</th>\n",
       "      <td>TAXI_IN</td>\n",
       "      <td>0.024539</td>\n",
       "    </tr>\n",
       "    <tr>\n",
       "      <th>5</th>\n",
       "      <td>ACTUAL_ELAPSED_TIME</td>\n",
       "      <td>0.021385</td>\n",
       "    </tr>\n",
       "    <tr>\n",
       "      <th>6</th>\n",
       "      <td>DISTANCE</td>\n",
       "      <td>0.012292</td>\n",
       "    </tr>\n",
       "    <tr>\n",
       "      <th>7</th>\n",
       "      <td>OP_CARRIER_Delta Airlines</td>\n",
       "      <td>0.007526</td>\n",
       "    </tr>\n",
       "    <tr>\n",
       "      <th>8</th>\n",
       "      <td>MONTH_Nov</td>\n",
       "      <td>0.002124</td>\n",
       "    </tr>\n",
       "    <tr>\n",
       "      <th>9</th>\n",
       "      <td>MONTH_Jun</td>\n",
       "      <td>0.001831</td>\n",
       "    </tr>\n",
       "    <tr>\n",
       "      <th>10</th>\n",
       "      <td>OP_CARRIER_SkyWest Airlines</td>\n",
       "      <td>0.001165</td>\n",
       "    </tr>\n",
       "    <tr>\n",
       "      <th>11</th>\n",
       "      <td>OP_CARRIER_Frontier Airlines</td>\n",
       "      <td>0.000784</td>\n",
       "    </tr>\n",
       "    <tr>\n",
       "      <th>12</th>\n",
       "      <td>MONTH_Oct</td>\n",
       "      <td>0.000763</td>\n",
       "    </tr>\n",
       "    <tr>\n",
       "      <th>13</th>\n",
       "      <td>OP_CARRIER_Southwest Airlines</td>\n",
       "      <td>0.000679</td>\n",
       "    </tr>\n",
       "    <tr>\n",
       "      <th>14</th>\n",
       "      <td>DAY_Saturday</td>\n",
       "      <td>0.000438</td>\n",
       "    </tr>\n",
       "    <tr>\n",
       "      <th>15</th>\n",
       "      <td>OP_CARRIER_Endeavor Air</td>\n",
       "      <td>0.000340</td>\n",
       "    </tr>\n",
       "    <tr>\n",
       "      <th>16</th>\n",
       "      <td>OP_CARRIER_JetBlue Airways</td>\n",
       "      <td>0.000304</td>\n",
       "    </tr>\n",
       "    <tr>\n",
       "      <th>17</th>\n",
       "      <td>MONTH_Dec</td>\n",
       "      <td>0.000286</td>\n",
       "    </tr>\n",
       "    <tr>\n",
       "      <th>18</th>\n",
       "      <td>OP_CARRIER_American Airlines</td>\n",
       "      <td>0.000279</td>\n",
       "    </tr>\n",
       "    <tr>\n",
       "      <th>19</th>\n",
       "      <td>MONTH_Jan</td>\n",
       "      <td>0.000206</td>\n",
       "    </tr>\n",
       "    <tr>\n",
       "      <th>20</th>\n",
       "      <td>MONTH_Jul</td>\n",
       "      <td>0.000182</td>\n",
       "    </tr>\n",
       "    <tr>\n",
       "      <th>21</th>\n",
       "      <td>MONTH_Mar</td>\n",
       "      <td>0.000169</td>\n",
       "    </tr>\n",
       "    <tr>\n",
       "      <th>22</th>\n",
       "      <td>MONTH_Feb</td>\n",
       "      <td>0.000162</td>\n",
       "    </tr>\n",
       "    <tr>\n",
       "      <th>23</th>\n",
       "      <td>DAY_Friday</td>\n",
       "      <td>0.000160</td>\n",
       "    </tr>\n",
       "    <tr>\n",
       "      <th>24</th>\n",
       "      <td>DAY_Thursday</td>\n",
       "      <td>0.000123</td>\n",
       "    </tr>\n",
       "    <tr>\n",
       "      <th>25</th>\n",
       "      <td>MONTH_Sep</td>\n",
       "      <td>0.000106</td>\n",
       "    </tr>\n",
       "    <tr>\n",
       "      <th>26</th>\n",
       "      <td>MONTH_Apr</td>\n",
       "      <td>0.000098</td>\n",
       "    </tr>\n",
       "    <tr>\n",
       "      <th>27</th>\n",
       "      <td>MONTH_May</td>\n",
       "      <td>0.000093</td>\n",
       "    </tr>\n",
       "    <tr>\n",
       "      <th>28</th>\n",
       "      <td>DAY_Tuesday</td>\n",
       "      <td>0.000089</td>\n",
       "    </tr>\n",
       "    <tr>\n",
       "      <th>29</th>\n",
       "      <td>DAY_Monday</td>\n",
       "      <td>0.000088</td>\n",
       "    </tr>\n",
       "    <tr>\n",
       "      <th>30</th>\n",
       "      <td>OP_CARRIER_Spirit Airlines</td>\n",
       "      <td>0.000086</td>\n",
       "    </tr>\n",
       "    <tr>\n",
       "      <th>31</th>\n",
       "      <td>OP_CARRIER_Republic Airways</td>\n",
       "      <td>0.000086</td>\n",
       "    </tr>\n",
       "    <tr>\n",
       "      <th>32</th>\n",
       "      <td>DAY_Wednesday</td>\n",
       "      <td>0.000072</td>\n",
       "    </tr>\n",
       "    <tr>\n",
       "      <th>33</th>\n",
       "      <td>OP_CARRIER_PSA Airlines</td>\n",
       "      <td>0.000043</td>\n",
       "    </tr>\n",
       "    <tr>\n",
       "      <th>34</th>\n",
       "      <td>DAY_Sunday</td>\n",
       "      <td>0.000035</td>\n",
       "    </tr>\n",
       "    <tr>\n",
       "      <th>35</th>\n",
       "      <td>OP_CARRIER_ExpressJet</td>\n",
       "      <td>0.000029</td>\n",
       "    </tr>\n",
       "    <tr>\n",
       "      <th>36</th>\n",
       "      <td>OP_CARRIER_Envoy Air</td>\n",
       "      <td>0.000027</td>\n",
       "    </tr>\n",
       "    <tr>\n",
       "      <th>37</th>\n",
       "      <td>MONTH_Aug</td>\n",
       "      <td>0.000022</td>\n",
       "    </tr>\n",
       "    <tr>\n",
       "      <th>38</th>\n",
       "      <td>OP_CARRIER_Alaska Airlines</td>\n",
       "      <td>0.000020</td>\n",
       "    </tr>\n",
       "    <tr>\n",
       "      <th>39</th>\n",
       "      <td>OP_CARRIER_United Airlines</td>\n",
       "      <td>0.000010</td>\n",
       "    </tr>\n",
       "    <tr>\n",
       "      <th>40</th>\n",
       "      <td>OP_CARRIER_Mesa Airline</td>\n",
       "      <td>0.000003</td>\n",
       "    </tr>\n",
       "  </tbody>\n",
       "</table>\n",
       "</div>"
      ],
      "text/plain": [
       "                                0         0\n",
       "0                       DEP_DELAY  0.575291\n",
       "1               WHEELS_OFF_elapse  0.165084\n",
       "2                        TAXI_OUT  0.148950\n",
       "3                WHEELS_ON_elapse  0.034030\n",
       "4                         TAXI_IN  0.024539\n",
       "5             ACTUAL_ELAPSED_TIME  0.021385\n",
       "6                        DISTANCE  0.012292\n",
       "7       OP_CARRIER_Delta Airlines  0.007526\n",
       "8                       MONTH_Nov  0.002124\n",
       "9                       MONTH_Jun  0.001831\n",
       "10    OP_CARRIER_SkyWest Airlines  0.001165\n",
       "11   OP_CARRIER_Frontier Airlines  0.000784\n",
       "12                      MONTH_Oct  0.000763\n",
       "13  OP_CARRIER_Southwest Airlines  0.000679\n",
       "14                   DAY_Saturday  0.000438\n",
       "15        OP_CARRIER_Endeavor Air  0.000340\n",
       "16     OP_CARRIER_JetBlue Airways  0.000304\n",
       "17                      MONTH_Dec  0.000286\n",
       "18   OP_CARRIER_American Airlines  0.000279\n",
       "19                      MONTH_Jan  0.000206\n",
       "20                      MONTH_Jul  0.000182\n",
       "21                      MONTH_Mar  0.000169\n",
       "22                      MONTH_Feb  0.000162\n",
       "23                     DAY_Friday  0.000160\n",
       "24                   DAY_Thursday  0.000123\n",
       "25                      MONTH_Sep  0.000106\n",
       "26                      MONTH_Apr  0.000098\n",
       "27                      MONTH_May  0.000093\n",
       "28                    DAY_Tuesday  0.000089\n",
       "29                     DAY_Monday  0.000088\n",
       "30     OP_CARRIER_Spirit Airlines  0.000086\n",
       "31    OP_CARRIER_Republic Airways  0.000086\n",
       "32                  DAY_Wednesday  0.000072\n",
       "33        OP_CARRIER_PSA Airlines  0.000043\n",
       "34                     DAY_Sunday  0.000035\n",
       "35          OP_CARRIER_ExpressJet  0.000029\n",
       "36           OP_CARRIER_Envoy Air  0.000027\n",
       "37                      MONTH_Aug  0.000022\n",
       "38     OP_CARRIER_Alaska Airlines  0.000020\n",
       "39     OP_CARRIER_United Airlines  0.000010\n",
       "40        OP_CARRIER_Mesa Airline  0.000003"
      ]
     },
     "execution_count": 73,
     "metadata": {},
     "output_type": "execute_result"
    }
   ],
   "source": [
    "features=pd.DataFrame(names)\n",
    "scale = pd.DataFrame(importance[indices])\n",
    "keep_features = pd.concat([features, scale],axis=1)\n",
    "keep_features"
   ]
  },
  {
   "cell_type": "markdown",
   "metadata": {},
   "source": [
    "### Classification Modelling"
   ]
  },
  {
   "cell_type": "code",
   "execution_count": 74,
   "metadata": {},
   "outputs": [],
   "source": [
    "from sklearn.metrics import (\n",
    "    precision_score,\n",
    "    recall_score,\n",
    "    f1_score,\n",
    "    roc_auc_score, \n",
    "    accuracy_score, \n",
    "    confusion_matrix, \n",
    "    classification_report, \n",
    "    confusion_matrix,\n",
    "    precision_recall_curve\n",
    ")"
   ]
  },
  {
   "cell_type": "markdown",
   "metadata": {},
   "source": [
    "#### Base classifiers\n",
    "- Decision Tree\n",
    "- Random Forest"
   ]
  },
  {
   "cell_type": "code",
   "execution_count": 75,
   "metadata": {},
   "outputs": [
    {
     "name": "stdout",
     "output_type": "stream",
     "text": [
      "<class 'pandas.core.frame.DataFrame'>\n",
      "Int64Index: 384813 entries, 13 to 7213438\n",
      "Data columns (total 42 columns):\n",
      " #   Column                         Non-Null Count   Dtype  \n",
      "---  ------                         --------------   -----  \n",
      " 0   DEP_DELAY                      384813 non-null  float64\n",
      " 1   TAXI_OUT                       384813 non-null  float64\n",
      " 2   TAXI_IN                        384813 non-null  float64\n",
      " 3   ACTUAL_ELAPSED_TIME            384813 non-null  float64\n",
      " 4   DISTANCE                       384813 non-null  float64\n",
      " 5   WHEELS_OFF_elapse              384813 non-null  float64\n",
      " 6   WHEELS_ON_elapse               384813 non-null  float64\n",
      " 7   FLIGHT_STATUS                  384813 non-null  int64  \n",
      " 8   OP_CARRIER_Alaska Airlines     384813 non-null  uint8  \n",
      " 9   OP_CARRIER_American Airlines   384813 non-null  uint8  \n",
      " 10  OP_CARRIER_Delta Airlines      384813 non-null  uint8  \n",
      " 11  OP_CARRIER_Endeavor Air        384813 non-null  uint8  \n",
      " 12  OP_CARRIER_Envoy Air           384813 non-null  uint8  \n",
      " 13  OP_CARRIER_ExpressJet          384813 non-null  uint8  \n",
      " 14  OP_CARRIER_Frontier Airlines   384813 non-null  uint8  \n",
      " 15  OP_CARRIER_JetBlue Airways     384813 non-null  uint8  \n",
      " 16  OP_CARRIER_Mesa Airline        384813 non-null  uint8  \n",
      " 17  OP_CARRIER_PSA Airlines        384813 non-null  uint8  \n",
      " 18  OP_CARRIER_Republic Airways    384813 non-null  uint8  \n",
      " 19  OP_CARRIER_SkyWest Airlines    384813 non-null  uint8  \n",
      " 20  OP_CARRIER_Southwest Airlines  384813 non-null  uint8  \n",
      " 21  OP_CARRIER_Spirit Airlines     384813 non-null  uint8  \n",
      " 22  OP_CARRIER_United Airlines     384813 non-null  uint8  \n",
      " 23  MONTH_Apr                      384813 non-null  uint8  \n",
      " 24  MONTH_Aug                      384813 non-null  uint8  \n",
      " 25  MONTH_Dec                      384813 non-null  uint8  \n",
      " 26  MONTH_Feb                      384813 non-null  uint8  \n",
      " 27  MONTH_Jan                      384813 non-null  uint8  \n",
      " 28  MONTH_Jul                      384813 non-null  uint8  \n",
      " 29  MONTH_Jun                      384813 non-null  uint8  \n",
      " 30  MONTH_Mar                      384813 non-null  uint8  \n",
      " 31  MONTH_May                      384813 non-null  uint8  \n",
      " 32  MONTH_Nov                      384813 non-null  uint8  \n",
      " 33  MONTH_Oct                      384813 non-null  uint8  \n",
      " 34  MONTH_Sep                      384813 non-null  uint8  \n",
      " 35  DAY_Friday                     384813 non-null  uint8  \n",
      " 36  DAY_Monday                     384813 non-null  uint8  \n",
      " 37  DAY_Saturday                   384813 non-null  uint8  \n",
      " 38  DAY_Sunday                     384813 non-null  uint8  \n",
      " 39  DAY_Thursday                   384813 non-null  uint8  \n",
      " 40  DAY_Tuesday                    384813 non-null  uint8  \n",
      " 41  DAY_Wednesday                  384813 non-null  uint8  \n",
      "dtypes: float64(7), int64(1), uint8(34)\n",
      "memory usage: 38.9 MB\n"
     ]
    }
   ],
   "source": [
    "flight_data_new.info()"
   ]
  },
  {
   "cell_type": "code",
   "execution_count": 76,
   "metadata": {},
   "outputs": [],
   "source": [
    "flight_data_new[\"FLIGHT_STATUS\"] = flight_data_new[\"FLIGHT_STATUS\"].astype('category')"
   ]
  },
  {
   "cell_type": "code",
   "execution_count": 77,
   "metadata": {},
   "outputs": [
    {
     "name": "stdout",
     "output_type": "stream",
     "text": [
      "<class 'pandas.core.frame.DataFrame'>\n",
      "Int64Index: 384813 entries, 13 to 7213438\n",
      "Data columns (total 42 columns):\n",
      " #   Column                         Non-Null Count   Dtype   \n",
      "---  ------                         --------------   -----   \n",
      " 0   DEP_DELAY                      384813 non-null  float64 \n",
      " 1   TAXI_OUT                       384813 non-null  float64 \n",
      " 2   TAXI_IN                        384813 non-null  float64 \n",
      " 3   ACTUAL_ELAPSED_TIME            384813 non-null  float64 \n",
      " 4   DISTANCE                       384813 non-null  float64 \n",
      " 5   WHEELS_OFF_elapse              384813 non-null  float64 \n",
      " 6   WHEELS_ON_elapse               384813 non-null  float64 \n",
      " 7   FLIGHT_STATUS                  384813 non-null  category\n",
      " 8   OP_CARRIER_Alaska Airlines     384813 non-null  uint8   \n",
      " 9   OP_CARRIER_American Airlines   384813 non-null  uint8   \n",
      " 10  OP_CARRIER_Delta Airlines      384813 non-null  uint8   \n",
      " 11  OP_CARRIER_Endeavor Air        384813 non-null  uint8   \n",
      " 12  OP_CARRIER_Envoy Air           384813 non-null  uint8   \n",
      " 13  OP_CARRIER_ExpressJet          384813 non-null  uint8   \n",
      " 14  OP_CARRIER_Frontier Airlines   384813 non-null  uint8   \n",
      " 15  OP_CARRIER_JetBlue Airways     384813 non-null  uint8   \n",
      " 16  OP_CARRIER_Mesa Airline        384813 non-null  uint8   \n",
      " 17  OP_CARRIER_PSA Airlines        384813 non-null  uint8   \n",
      " 18  OP_CARRIER_Republic Airways    384813 non-null  uint8   \n",
      " 19  OP_CARRIER_SkyWest Airlines    384813 non-null  uint8   \n",
      " 20  OP_CARRIER_Southwest Airlines  384813 non-null  uint8   \n",
      " 21  OP_CARRIER_Spirit Airlines     384813 non-null  uint8   \n",
      " 22  OP_CARRIER_United Airlines     384813 non-null  uint8   \n",
      " 23  MONTH_Apr                      384813 non-null  uint8   \n",
      " 24  MONTH_Aug                      384813 non-null  uint8   \n",
      " 25  MONTH_Dec                      384813 non-null  uint8   \n",
      " 26  MONTH_Feb                      384813 non-null  uint8   \n",
      " 27  MONTH_Jan                      384813 non-null  uint8   \n",
      " 28  MONTH_Jul                      384813 non-null  uint8   \n",
      " 29  MONTH_Jun                      384813 non-null  uint8   \n",
      " 30  MONTH_Mar                      384813 non-null  uint8   \n",
      " 31  MONTH_May                      384813 non-null  uint8   \n",
      " 32  MONTH_Nov                      384813 non-null  uint8   \n",
      " 33  MONTH_Oct                      384813 non-null  uint8   \n",
      " 34  MONTH_Sep                      384813 non-null  uint8   \n",
      " 35  DAY_Friday                     384813 non-null  uint8   \n",
      " 36  DAY_Monday                     384813 non-null  uint8   \n",
      " 37  DAY_Saturday                   384813 non-null  uint8   \n",
      " 38  DAY_Sunday                     384813 non-null  uint8   \n",
      " 39  DAY_Thursday                   384813 non-null  uint8   \n",
      " 40  DAY_Tuesday                    384813 non-null  uint8   \n",
      " 41  DAY_Wednesday                  384813 non-null  uint8   \n",
      "dtypes: category(1), float64(7), uint8(34)\n",
      "memory usage: 36.3 MB\n"
     ]
    }
   ],
   "source": [
    "flight_data_new.info()"
   ]
  },
  {
   "cell_type": "code",
   "execution_count": 78,
   "metadata": {},
   "outputs": [],
   "source": [
    "flight_data_new.to_csv('flight_data_new.csv',index=False)"
   ]
  },
  {
   "cell_type": "code",
   "execution_count": 79,
   "metadata": {},
   "outputs": [
    {
     "data": {
      "text/plain": [
       "((307850, 41), (76963, 41))"
      ]
     },
     "execution_count": 79,
     "metadata": {},
     "output_type": "execute_result"
    }
   ],
   "source": [
    "X_train, X_test, y_train, y_test = train_test_split(\n",
    "    flight_data_new.drop(labels=['FLIGHT_STATUS'], axis=1),\n",
    "    flight_data_new['FLIGHT_STATUS'],\n",
    "    test_size=0.2,\n",
    "    random_state=100)\n",
    "\n",
    "X_train.shape, X_test.shape"
   ]
  },
  {
   "cell_type": "markdown",
   "metadata": {},
   "source": [
    "#### Random Forest"
   ]
  },
  {
   "cell_type": "code",
   "execution_count": 80,
   "metadata": {},
   "outputs": [],
   "source": [
    "def run_randomForests(X_train, X_test, y_train, y_test):\n",
    "    rf = RandomForestClassifier(n_estimators=100, random_state=100, max_depth=4)\n",
    "    rf.fit(X_train, y_train)\n",
    "\n",
    "    print('Test set')\n",
    "    pred = rf.predict_proba(X_test)\n",
    "    print('Roc-auc Random Forests roc-auc: {}'.format(roc_auc_score(y_test, pred[:,1])))\n",
    "    print()\n",
    "    print('Accuracy Random Forest test:', accuracy_score(y_test, rf.predict(X_test)))\n",
    "    print()\n",
    "    print('Precision Random Forest test:', precision_score(y_test, rf.predict(X_test),pos_label=1))\n",
    "    print()\n",
    "    print('Recall Random Forest test:', recall_score(y_test, rf.predict(X_test),pos_label=1))\n",
    "    print()\n",
    "    print('F-measure Random Forest test:', f1_score(y_test, rf.predict(X_test),pos_label=1))\n",
    "    print()\n",
    "    print('Summary Report:')\n",
    "    print(classification_report(y_test, rf.predict(X_test)))"
   ]
  },
  {
   "cell_type": "code",
   "execution_count": 81,
   "metadata": {},
   "outputs": [
    {
     "name": "stdout",
     "output_type": "stream",
     "text": [
      "Test set\n",
      "Roc-auc Random Forests roc-auc: 0.967824946807227\n",
      "\n",
      "Accuracy Random Forest test: 0.8826449072931148\n",
      "\n",
      "Precision Random Forest test: 0.9463941380640185\n",
      "\n",
      "Recall Random Forest test: 0.2162686172556623\n",
      "\n",
      "F-measure Random Forest test: 0.35208034433285507\n",
      "\n",
      "Summary Report:\n",
      "              precision    recall  f1-score   support\n",
      "\n",
      "           0       0.88      1.00      0.94     65616\n",
      "           1       0.95      0.22      0.35     11347\n",
      "\n",
      "    accuracy                           0.88     76963\n",
      "   macro avg       0.91      0.61      0.64     76963\n",
      "weighted avg       0.89      0.88      0.85     76963\n",
      "\n"
     ]
    }
   ],
   "source": [
    "run_randomForests(X_train, X_test, y_train, y_test)"
   ]
  },
  {
   "cell_type": "markdown",
   "metadata": {},
   "source": [
    "#### Decision Tree"
   ]
  },
  {
   "cell_type": "code",
   "execution_count": 85,
   "metadata": {},
   "outputs": [],
   "source": [
    "from sklearn.tree import DecisionTreeClassifier"
   ]
  },
  {
   "cell_type": "code",
   "execution_count": 86,
   "metadata": {},
   "outputs": [],
   "source": [
    "\n",
    "def run_DT(X_train, X_test, y_train, y_test):\n",
    "    DT = DecisionTreeClassifier(random_state=100)\n",
    "    DT = DT.fit(X_train,y_train)\n",
    "\n",
    "    print('Test set')\n",
    "    pred = DT.predict_proba(X_test)\n",
    "    print('Roc-auc Decision Tree roc-auc: {}'.format(roc_auc_score(y_test, pred[:,1])))\n",
    "    print()\n",
    "    print('Accuracy Decision Tree:', accuracy_score(y_test, DT.predict(X_test)))\n",
    "    print()\n",
    "    print('Precision Decision Tree:', precision_score(y_test, DT.predict(X_test),pos_label=1))\n",
    "    print()\n",
    "    print('Recall Decision Tree:', recall_score(y_test, DT.predict(X_test),pos_label=1))\n",
    "    print()\n",
    "    print('F-measure Decision Tree:', f1_score(y_test, DT.predict(X_test),pos_label=1))\n",
    "    print()\n",
    "    print('Summary Report:')\n",
    "    print(classification_report(y_test, DT.predict(X_test)))\n"
   ]
  },
  {
   "cell_type": "code",
   "execution_count": 87,
   "metadata": {},
   "outputs": [
    {
     "name": "stdout",
     "output_type": "stream",
     "text": [
      "Test set\n",
      "Roc-auc Decision Tree roc-auc: 0.911810166784978\n",
      "\n",
      "Accuracy Decision Tree: 0.9553291841534244\n",
      "\n",
      "Precision Decision Tree: 0.8474040235438812\n",
      "\n",
      "Recall Decision Tree: 0.8500925354719309\n",
      "\n",
      "F-measure Decision Tree: 0.8487461504619446\n",
      "\n",
      "Summary Report:\n",
      "              precision    recall  f1-score   support\n",
      "\n",
      "           0       0.97      0.97      0.97     65616\n",
      "           1       0.85      0.85      0.85     11347\n",
      "\n",
      "    accuracy                           0.96     76963\n",
      "   macro avg       0.91      0.91      0.91     76963\n",
      "weighted avg       0.96      0.96      0.96     76963\n",
      "\n"
     ]
    }
   ],
   "source": [
    "run_DT(X_train, X_test, y_train, y_test)"
   ]
  },
  {
   "cell_type": "code",
   "execution_count": 102,
   "metadata": {},
   "outputs": [
    {
     "name": "stderr",
     "output_type": "stream",
     "text": [
      "2023-12-11 21:32:49.090093: I tensorflow/core/platform/cpu_feature_guard.cc:182] This TensorFlow binary is optimized to use available CPU instructions in performance-critical operations.\n",
      "To enable the following instructions: AVX2 FMA, in other operations, rebuild TensorFlow with the appropriate compiler flags.\n"
     ]
    },
    {
     "name": "stdout",
     "output_type": "stream",
     "text": [
      "Epoch 1/20\n",
      "7697/7697 [==============================] - 110s 14ms/step - loss: 0.3194 - accuracy: 0.8861 - val_loss: 0.2062 - val_accuracy: 0.9347 - lr: 0.0010\n",
      "Epoch 2/20\n",
      "7697/7697 [==============================] - 110s 14ms/step - loss: 0.3197 - accuracy: 0.9063 - val_loss: 0.3263 - val_accuracy: 0.8939 - lr: 9.0484e-04\n",
      "Epoch 3/20\n",
      "7697/7697 [==============================] - 112s 15ms/step - loss: 0.2102 - accuracy: 0.9348 - val_loss: 0.2261 - val_accuracy: 0.9276 - lr: 8.1873e-04\n",
      "Epoch 4/20\n",
      "7697/7697 [==============================] - 115s 15ms/step - loss: 1.3171 - accuracy: 0.9306 - val_loss: 0.2360 - val_accuracy: 0.9317 - lr: 7.4082e-04\n",
      "Epoch 5/20\n",
      "7697/7697 [==============================] - 108s 14ms/step - loss: 0.2313 - accuracy: 0.9304 - val_loss: 0.1987 - val_accuracy: 0.9376 - lr: 6.7032e-04\n",
      "Epoch 6/20\n",
      "7697/7697 [==============================] - 111s 14ms/step - loss: 0.2030 - accuracy: 0.9365 - val_loss: 0.1958 - val_accuracy: 0.9378 - lr: 6.0653e-04\n",
      "Epoch 7/20\n",
      "7697/7697 [==============================] - 115s 15ms/step - loss: 0.1994 - accuracy: 0.9374 - val_loss: 0.1943 - val_accuracy: 0.9379 - lr: 5.4881e-04\n",
      "Epoch 8/20\n",
      "7697/7697 [==============================] - 112s 14ms/step - loss: 0.1972 - accuracy: 0.9378 - val_loss: 0.1921 - val_accuracy: 0.9380 - lr: 4.9659e-04\n",
      "Epoch 9/20\n",
      "7697/7697 [==============================] - 116s 15ms/step - loss: 0.1952 - accuracy: 0.9381 - val_loss: 0.1917 - val_accuracy: 0.9379 - lr: 4.4933e-04\n",
      "Epoch 10/20\n",
      "7697/7697 [==============================] - 114s 15ms/step - loss: 0.1909 - accuracy: 0.9382 - val_loss: 0.1842 - val_accuracy: 0.9381 - lr: 4.0657e-04\n",
      "Epoch 11/20\n",
      "7697/7697 [==============================] - 120s 16ms/step - loss: 0.1819 - accuracy: 0.9391 - val_loss: 0.1458 - val_accuracy: 0.9438 - lr: 3.6788e-04\n",
      "Epoch 12/20\n",
      "7697/7697 [==============================] - 115s 15ms/step - loss: 0.1414 - accuracy: 0.9470 - val_loss: 0.2383 - val_accuracy: 0.9091 - lr: 3.3287e-04\n",
      "Epoch 13/20\n",
      "7697/7697 [==============================] - 109s 14ms/step - loss: 0.1230 - accuracy: 0.9527 - val_loss: 0.1328 - val_accuracy: 0.9500 - lr: 3.0119e-04\n",
      "Epoch 14/20\n",
      "7697/7697 [==============================] - 111s 14ms/step - loss: 0.1338 - accuracy: 0.9490 - val_loss: 0.1147 - val_accuracy: 0.9522 - lr: 2.7253e-04\n",
      "Epoch 15/20\n",
      "7697/7697 [==============================] - 114s 15ms/step - loss: 0.1167 - accuracy: 0.9536 - val_loss: 0.0955 - val_accuracy: 0.9606 - lr: 2.4660e-04\n",
      "Epoch 16/20\n",
      "7697/7697 [==============================] - 106s 14ms/step - loss: 0.1083 - accuracy: 0.9572 - val_loss: 0.0990 - val_accuracy: 0.9601 - lr: 2.2313e-04\n",
      "Epoch 17/20\n",
      "7697/7697 [==============================] - 115s 15ms/step - loss: 0.1033 - accuracy: 0.9587 - val_loss: 0.1019 - val_accuracy: 0.9593 - lr: 2.0190e-04\n",
      "Epoch 18/20\n",
      "7697/7697 [==============================] - 113s 15ms/step - loss: 0.0994 - accuracy: 0.9596 - val_loss: 0.0875 - val_accuracy: 0.9637 - lr: 1.8268e-04\n",
      "Epoch 19/20\n",
      "7697/7697 [==============================] - 112s 15ms/step - loss: 0.0970 - accuracy: 0.9602 - val_loss: 0.0967 - val_accuracy: 0.9596 - lr: 1.6530e-04\n",
      "Epoch 20/20\n",
      "7697/7697 [==============================] - 106s 14ms/step - loss: 0.0938 - accuracy: 0.9614 - val_loss: 0.0897 - val_accuracy: 0.9618 - lr: 1.4957e-04\n",
      "2406/2406 [==============================] - 13s 5ms/step - loss: 0.0891 - accuracy: 0.9619\n",
      "Test Loss: 0.0891, Test Accuracy: 0.9619\n",
      "2406/2406 [==============================] - 12s 5ms/step\n"
     ]
    },
    {
     "data": {
      "image/png": "[encoded data removed]",
      "text/plain": [
       "<Figure size 800x600 with 1 Axes>"
      ]
     },
     "metadata": {},
     "output_type": "display_data"
    },
    {
     "name": "stdout",
     "output_type": "stream",
     "text": [
      "Classification Report:\n",
      "               precision    recall  f1-score   support\n",
      "\n",
      "           0       0.97      0.99      0.98     65616\n",
      "           1       0.93      0.80      0.86     11347\n",
      "\n",
      "    accuracy                           0.96     76963\n",
      "   macro avg       0.95      0.89      0.92     76963\n",
      "weighted avg       0.96      0.96      0.96     76963\n",
      "\n"
     ]
    }
   ],
   "source": [
    "import numpy as np\n",
    "import tensorflow as tf\n",
    "from tensorflow.keras.models import Sequential\n",
    "from tensorflow.keras.layers import LSTM, Dropout, Dense\n",
    "from tensorflow.keras.callbacks import LearningRateScheduler\n",
    "from sklearn.model_selection import train_test_split\n",
    "from sklearn.preprocessing import MinMaxScaler\n",
    "\n",
    "# Extract target variable\n",
    "y = flight_data_new['FLIGHT_STATUS']\n",
    "\n",
    "# Separate train and test sets\n",
    "X_train, X_test, y_train, y_test = train_test_split(\n",
    "    flight_data_new.drop(labels=['FLIGHT_STATUS'], axis=1),\n",
    "    y,\n",
    "    test_size=0.2,\n",
    "    random_state=100)\n",
    "\n",
    "# Reshape the data\n",
    "timesteps = X_train.shape[1] \n",
    "X_train = X_train.values.reshape(-1, timesteps, 1)\n",
    "X_test = X_test.values.reshape(-1, timesteps, 1)\n",
    "\n",
    "# Normalize the data\n",
    "scaler = MinMaxScaler()\n",
    "X_train = scaler.fit_transform(X_train.reshape(-1, 1)).reshape(X_train.shape)\n",
    "X_test = scaler.transform(X_test.reshape(-1, 1)).reshape(X_test.shape)\n",
    "\n",
    "# Build the LSTM and Dropout\n",
    "model = Sequential()\n",
    "model.add(LSTM(units=50, activation='relu', input_shape=(timesteps, 1)))\n",
    "model.add(Dropout(0.2))\n",
    "model.add(Dense(units=1, activation='sigmoid'))\n",
    "\n",
    "# Compile the model\n",
    "model.compile(optimizer='adam', loss='binary_crossentropy', metrics=['accuracy'])\n",
    "\n",
    "# Define a learning rate schedule\n",
    "def lr_schedule(epoch):\n",
    "    return 0.001 * np.exp(-epoch / 10)\n",
    "\n",
    "# Use the learning rate schedule during training\n",
    "lr_scheduler = LearningRateScheduler(lr_schedule)\n",
    "\n",
    "# Train the model\n",
    "history = model.fit(X_train, y_train, epochs=20, batch_size=32, validation_split=0.2, callbacks=[lr_scheduler])\n",
    "\n",
    "# Evaluate the model\n",
    "loss, accuracy = model.evaluate(X_test, y_test)\n",
    "print(f\"Test Loss: {loss:.4f}, Test Accuracy: {accuracy:.4f}\")\n",
    "\n",
    "# Predictions\n",
    "y_pred = (model.predict(X_test) > 0.5).astype(int)\n",
    "\n",
    "# Confusion Matrix\n",
    "cm = confusion_matrix(y_test, y_pred)\n",
    "\n",
    "# Plot Confusion Matrix\n",
    "plt.figure(figsize=(8, 6))\n",
    "sns.heatmap(cm, annot=True, fmt='d', cmap='Blues', cbar=False)\n",
    "plt.title('Confusion Matrix')\n",
    "plt.xlabel('Predicted')\n",
    "plt.ylabel('Actual')\n",
    "plt.show()\n",
    "\n",
    "# Classification Report\n",
    "class_report = classification_report(y_test, y_pred)\n",
    "print(\"Classification Report:\\n\", class_report)"
   ]
  },
  {
   "cell_type": "code",
   "execution_count": 103,
   "metadata": {},
   "outputs": [
    {
     "name": "stdout",
     "output_type": "stream",
     "text": [
      "dict_keys(['loss', 'accuracy', 'val_loss', 'val_accuracy', 'lr'])\n"
     ]
    },
    {
     "data": {
      "image/png": "[encoded data removed]",
      "text/plain": [
       "<Figure size 640x480 with 1 Axes>"
      ]
     },
     "metadata": {},
     "output_type": "display_data"
    },
    {
     "data": {
      "image/png": "[encoded data removed]",
      "text/plain": [
       "<Figure size 640x480 with 1 Axes>"
      ]
     },
     "metadata": {},
     "output_type": "display_data"
    }
   ],
   "source": [
    "print(history.history.keys())\n",
    "loss = history.history['loss']\n",
    "val_loss = history.history['val_loss']\n",
    "plt.plot(loss)\n",
    "plt.plot(val_loss)\n",
    "plt.title('model loss')\n",
    "plt.ylabel('loss')\n",
    "plt.xlabel('epoch')\n",
    "plt.legend(['loss', 'val_loss'])\n",
    "plt.show()\n",
    "accuracy = history.history['accuracy']\n",
    "val_accuracy= history.history['val_accuracy']\n",
    "plt.plot(accuracy)\n",
    "plt.plot(val_accuracy)\n",
    "plt.title('model accuracy')\n",
    "plt.ylabel('accuracy')\n",
    "plt.xlabel('epoch')\n",
    "plt.legend(['accuracy', 'val_accuracy'])\n",
    "plt.show()"
   ]
  },
  {
   "cell_type": "code",
   "execution_count": 104,
   "metadata": {},
   "outputs": [],
   "source": [
    "from sklearn.metrics import mean_squared_error\n",
    "from sklearn.metrics import mean_absolute_error\n",
    "import math"
   ]
  },
  {
   "cell_type": "code",
   "execution_count": 105,
   "metadata": {},
   "outputs": [
    {
     "name": "stdout",
     "output_type": "stream",
     "text": [
      "Epoch 1/20\n",
      "8659/8659 [==============================] - 115s 13ms/step - loss: 0.3830 - accuracy: 0.8550 - val_loss: 0.3055 - val_accuracy: 0.9203 - lr: 0.0010\n",
      "Epoch 2/20\n",
      "8659/8659 [==============================] - 118s 14ms/step - loss: 0.1598 - accuracy: 0.9447 - val_loss: 0.1216 - val_accuracy: 0.9562 - lr: 9.0484e-04\n",
      "Epoch 3/20\n",
      "8659/8659 [==============================] - 121s 14ms/step - loss: 0.1330 - accuracy: 0.9531 - val_loss: 0.1257 - val_accuracy: 0.9552 - lr: 8.1873e-04\n",
      "Epoch 4/20\n",
      "8659/8659 [==============================] - 119s 14ms/step - loss: 0.1274 - accuracy: 0.9543 - val_loss: 0.1173 - val_accuracy: 0.9521 - lr: 7.4082e-04\n",
      "Epoch 5/20\n",
      "8659/8659 [==============================] - 113s 13ms/step - loss: 0.2157 - accuracy: 0.8973 - val_loss: 0.1167 - val_accuracy: 0.9546 - lr: 6.7032e-04\n",
      "Epoch 6/20\n",
      "8659/8659 [==============================] - 120s 14ms/step - loss: 0.1103 - accuracy: 0.9573 - val_loss: 0.0957 - val_accuracy: 0.9607 - lr: 6.0653e-04\n",
      "Epoch 7/20\n",
      "8659/8659 [==============================] - 113s 13ms/step - loss: 0.1010 - accuracy: 0.9595 - val_loss: 0.0942 - val_accuracy: 0.9613 - lr: 5.4881e-04\n",
      "Epoch 8/20\n",
      "8659/8659 [==============================] - 114s 13ms/step - loss: 0.0950 - accuracy: 0.9605 - val_loss: 0.0919 - val_accuracy: 0.9600 - lr: 4.9659e-04\n",
      "Epoch 9/20\n",
      "8659/8659 [==============================] - 114s 13ms/step - loss: 0.0915 - accuracy: 0.9621 - val_loss: 0.0871 - val_accuracy: 0.9623 - lr: 4.4933e-04\n",
      "Epoch 10/20\n",
      "8659/8659 [==============================] - 114s 13ms/step - loss: 0.0890 - accuracy: 0.9627 - val_loss: 0.0900 - val_accuracy: 0.9625 - lr: 4.0657e-04\n",
      "Epoch 11/20\n",
      "8659/8659 [==============================] - 121s 14ms/step - loss: 0.0864 - accuracy: 0.9639 - val_loss: 0.0823 - val_accuracy: 0.9647 - lr: 3.6788e-04\n",
      "Epoch 12/20\n",
      "8659/8659 [==============================] - 125s 14ms/step - loss: 0.0855 - accuracy: 0.9643 - val_loss: 0.0820 - val_accuracy: 0.9652 - lr: 3.3287e-04\n",
      "Epoch 13/20\n",
      "8659/8659 [==============================] - 115s 13ms/step - loss: 0.0843 - accuracy: 0.9646 - val_loss: 0.0830 - val_accuracy: 0.9647 - lr: 3.0119e-04\n",
      "Epoch 14/20\n",
      "8659/8659 [==============================] - 116s 13ms/step - loss: 0.0835 - accuracy: 0.9650 - val_loss: 0.0811 - val_accuracy: 0.9658 - lr: 2.7253e-04\n",
      "Epoch 15/20\n",
      "8659/8659 [==============================] - 120s 14ms/step - loss: 0.0832 - accuracy: 0.9652 - val_loss: 0.0830 - val_accuracy: 0.9644 - lr: 2.4660e-04\n",
      "Epoch 16/20\n",
      "8659/8659 [==============================] - 121s 14ms/step - loss: 0.0822 - accuracy: 0.9652 - val_loss: 0.0812 - val_accuracy: 0.9659 - lr: 2.2313e-04\n",
      "Epoch 17/20\n",
      "8659/8659 [==============================] - 117s 14ms/step - loss: 0.0819 - accuracy: 0.9654 - val_loss: 0.0801 - val_accuracy: 0.9658 - lr: 2.0190e-04\n",
      "Epoch 18/20\n",
      "8659/8659 [==============================] - 119s 14ms/step - loss: 0.0814 - accuracy: 0.9655 - val_loss: 0.0802 - val_accuracy: 0.9656 - lr: 1.8268e-04\n",
      "Epoch 19/20\n",
      "8659/8659 [==============================] - 116s 13ms/step - loss: 0.0808 - accuracy: 0.9662 - val_loss: 0.0794 - val_accuracy: 0.9662 - lr: 1.6530e-04\n",
      "Epoch 20/20\n",
      "8659/8659 [==============================] - 114s 13ms/step - loss: 0.0818 - accuracy: 0.9656 - val_loss: 0.0847 - val_accuracy: 0.9641 - lr: 1.4957e-04\n",
      "2406/2406 [==============================] - 13s 5ms/step - loss: 0.0820 - accuracy: 0.9662\n",
      "2406/2406 [==============================] - 12s 5ms/step\n",
      "Decision Tree\n",
      "RMSE: 0.2116311771811387\n",
      "MSE: 0.044787755155074514\n",
      "MAE: 0.044787755155074514\n",
      "\n",
      "Random Forest\n",
      "RMSE: 0.3425712958011589\n",
      "MSE: 0.11735509270688513\n",
      "MAE: 0.11735509270688513\n",
      "\n",
      "LSTM\n",
      "RMSE: 0.1838000731764791\n",
      "MSE: 0.033782466899679064\n",
      "MAE: 0.033782466899679064\n",
      "\n"
     ]
    },
    {
     "data": {
      "image/png": "[encoded data removed]",
      "text/plain": [
       "<Figure size 640x480 with 1 Axes>"
      ]
     },
     "metadata": {},
     "output_type": "display_data"
    },
    {
     "data": {
      "image/png": "[encoded data removed]",
      "text/plain": [
       "<Figure size 1000x600 with 1 Axes>"
      ]
     },
     "metadata": {},
     "output_type": "display_data"
    }
   ],
   "source": [
    "import matplotlib.pyplot as plt\n",
    "from sklearn.tree import DecisionTreeClassifier\n",
    "from sklearn.ensemble import RandomForestClassifier\n",
    "from sklearn.metrics import accuracy_score, precision_score, recall_score, f1_score, classification_report\n",
    "from sklearn.metrics import mean_squared_error, mean_absolute_error\n",
    "import numpy as np\n",
    "from tensorflow.keras.models import Sequential\n",
    "from tensorflow.keras.layers import LSTM, Dropout, Dense\n",
    "from tensorflow.keras.callbacks import LearningRateScheduler\n",
    "from sklearn.model_selection import train_test_split\n",
    "from sklearn.preprocessing import MinMaxScaler\n",
    "\n",
    "def calculate_metrics(y_true, y_pred):\n",
    "    rmse = np.sqrt(mean_squared_error(y_true, y_pred))\n",
    "    mse = mean_squared_error(y_true, y_pred)\n",
    "    mae = mean_absolute_error(y_true, y_pred)\n",
    "    return rmse, mse, mae\n",
    "\n",
    "def plot_accuracy_comparison(X_train, X_test, y_train, y_test):\n",
    "    # Decision Tree\n",
    "    DT = DecisionTreeClassifier(random_state=100)\n",
    "\n",
    "    # Reshape 3D arrays to 2D arrays\n",
    "    X_train_2d = X_train.reshape(X_train.shape[0], -1)\n",
    "    X_test_2d = X_test.reshape(X_test.shape[0], -1)\n",
    "\n",
    "    DT.fit(X_train_2d, y_train)\n",
    "    dt_accuracy = accuracy_score(y_test, DT.predict(X_test_2d))\n",
    "    y_pred_dt = DT.predict(X_test_2d)\n",
    "    dt_rmse, dt_mse, dt_mae = calculate_metrics(y_test, y_pred_dt)\n",
    "\n",
    "    # Random Forest\n",
    "    rf = RandomForestClassifier(n_estimators=100, random_state=100, max_depth=4)\n",
    "    rf.fit(X_train_2d, y_train)\n",
    "    rf_accuracy = accuracy_score(y_test, rf.predict(X_test_2d))\n",
    "    y_pred_rf = rf.predict(X_test_2d)\n",
    "    rf_rmse, rf_mse, rf_mae = calculate_metrics(y_test, y_pred_rf)\n",
    "\n",
    "    # LSTM-based model\n",
    "    timesteps = X_train.shape[1]\n",
    "\n",
    "    X_train_lstm = X_train.reshape(-1, timesteps, 1)\n",
    "    X_test_lstm = X_test.reshape(-1, timesteps, 1)\n",
    "\n",
    "    scaler = MinMaxScaler()\n",
    "    X_train_lstm = scaler.fit_transform(X_train_lstm.reshape(-1, 1)).reshape(X_train_lstm.shape)\n",
    "    X_test_lstm = scaler.transform(X_test_lstm.reshape(-1, 1)).reshape(X_test_lstm.shape)\n",
    "\n",
    "    model = Sequential()\n",
    "    model.add(LSTM(units=50, activation='relu', input_shape=(timesteps, 1)))\n",
    "    model.add(Dropout(0.2))\n",
    "    model.add(Dense(units=1, activation='sigmoid'))\n",
    "    model.compile(optimizer='adam', loss='binary_crossentropy', metrics=['accuracy'])\n",
    "\n",
    "    def lr_schedule(epoch):\n",
    "        return 0.001 * np.exp(-epoch / 10)\n",
    "\n",
    "    lr_scheduler = LearningRateScheduler(lr_schedule)\n",
    "\n",
    "    model.fit(X_train_lstm, y_train, epochs=20, batch_size=32, validation_split=0.1, callbacks=[lr_scheduler])\n",
    "    \n",
    "    _, lstm_accuracy = model.evaluate(X_test_lstm, y_test)\n",
    "\n",
    "    y_pred_lstm_probs = model.predict(X_test_lstm).reshape(-1)\n",
    "    y_pred_lstm = (y_pred_lstm_probs > 0.5).astype(int)\n",
    "    lstm_rmse, lstm_mse, lstm_mae = calculate_metrics(y_test, y_pred_lstm)\n",
    "\n",
    "    # Print additional metrics\n",
    "    print('Decision Tree')\n",
    "    print('RMSE:', dt_rmse)\n",
    "    print('MSE:', dt_mse)\n",
    "    print('MAE:', dt_mae)\n",
    "    print()\n",
    "\n",
    "    print('Random Forest')\n",
    "    print('RMSE:', rf_rmse)\n",
    "    print('MSE:', rf_mse)\n",
    "    print('MAE:', rf_mae)\n",
    "    print()\n",
    "\n",
    "    print('LSTM')\n",
    "    print('RMSE:', lstm_rmse)\n",
    "    print('MSE:', lstm_mse)\n",
    "    print('MAE:', lstm_mae)\n",
    "    print()\n",
    "\n",
    "    # Plotting\n",
    "    models = ['Decision Tree', 'Random Forest', 'LSTM']\n",
    "    accuracies = [dt_accuracy, rf_accuracy, lstm_accuracy]\n",
    "\n",
    "    plt.bar(models, accuracies, color=['blue', 'green', 'orange'])\n",
    "    plt.ylim(0, 1.1)\n",
    "    plt.ylabel('Accuracy')\n",
    "    plt.title('Model Accuracy Comparison')\n",
    "\n",
    "    # Adding percentage values above the bars\n",
    "    for model, accuracy in zip(models, accuracies):\n",
    "        plt.text(model, accuracy + 0.02, f'{accuracy*100:.2f}%', ha='center', va='bottom')\n",
    "\n",
    "    # Plotting additional metrics\n",
    "    metrics = ['RMSE', 'MSE', 'MAE']\n",
    "    dt_metrics = [dt_rmse, dt_mse, dt_mae]\n",
    "    rf_metrics = [rf_rmse, rf_mse, rf_mae]\n",
    "    lstm_metrics = [lstm_rmse, lstm_mse, lstm_mae]\n",
    "\n",
    "    width = 0.2  # the width of the bars\n",
    "    x = np.arange(len(metrics))\n",
    "\n",
    "    plt.figure(figsize=(10, 6))\n",
    "    plt.bar(x - width, dt_metrics, width, label='Decision Tree', color='blue')\n",
    "    plt.bar(x, rf_metrics, width, label='Random Forest', color='green')\n",
    "    plt.bar(x + width, lstm_metrics, width, label='LSTM', color='orange')\n",
    "\n",
    "    plt.xlabel('Metrics')\n",
    "    plt.ylabel('Values')\n",
    "    plt.title('Model Evaluation Metrics Comparison')\n",
    "    plt.xticks(x, metrics)\n",
    "    plt.legend()\n",
    "    plt.show()\n",
    "\n",
    "# Assuming you have X_train, X_test, y_train, y_test datasets\n",
    "plot_accuracy_comparison(X_train, X_test, y_train, y_test)\n"
   ]
  },
  {
   "cell_type": "code",
   "execution_count": null,
   "metadata": {},
   "outputs": [],
   "source": []
  }
 ],
 "metadata": {
  "kernelspec": {
   "display_name": "Python 3 (ipykernel)",
   "language": "python",
   "name": "python3"
  },
  "language_info": {
   "codemirror_mode": {
    "name": "ipython",
    "version": 3
   },
   "file_extension": ".py",
   "mimetype": "text/x-python",
   "name": "python",
   "nbconvert_exporter": "python",
   "pygments_lexer": "ipython3",
   "version": "3.11.7"
  }
 },
 "nbformat": 4,
 "nbformat_minor": 4
}
